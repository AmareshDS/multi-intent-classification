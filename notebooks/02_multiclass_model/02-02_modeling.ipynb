{
 "cells": [
  {
   "cell_type": "markdown",
   "metadata": {},
   "source": [
    "# 02-02 : Multi-label text classification\n",
    "\n",
    "After extracting intents, we use Keras, a comprehensive deep learning library, to develop a multi-class classification model.\n",
    "\n",
    "## References\n",
    "\n",
    "- [Large-scale multi-label text classification](https://keras.io/examples/nlp/multi_label_classification/)"
   ]
  },
  {
   "cell_type": "code",
   "execution_count": 8,
   "metadata": {},
   "outputs": [],
   "source": [
    "import pandas as pd\n",
    "from typing import List\n",
    "from IPython.display import display\n",
    "\n",
    "from tensorflow.keras import layers\n",
    "from tensorflow import keras\n",
    "import tensorflow as tf\n",
    "\n",
    "from sklearn.model_selection import train_test_split"
   ]
  },
  {
   "cell_type": "markdown",
   "metadata": {},
   "source": [
    "## 1. Data Description"
   ]
  },
  {
   "cell_type": "code",
   "execution_count": 2,
   "metadata": {},
   "outputs": [],
   "source": [
    "data_path = '../../data'\n",
    "\n",
    "orig_data_path = f'{data_path}/hellopeter'\n",
    "orig_file = f'{orig_data_path}/00-01_vodacom_selected_reviews.parquet.gz'\n",
    "\n",
    "intent_path = f'{data_path}/multiclass_model'\n",
    "intent_extract_file = f'{intent_path}/02-01_intents.parquet.gz'\n",
    "intent_file = f'{intent_path}/02-01_flat_intents.parquet.gz'"
   ]
  },
  {
   "cell_type": "markdown",
   "metadata": {},
   "source": [
    "### 1.1 Data Lineage\n",
    "\n",
    "1. The original dataset is a collection publicly accessible customer reviews/complaints scraped from [Hellopeter](https://www.hellopeter.com/) site between 2021 and 2023. This dataset was [created](https://github.com/JohnnyFoulds/dsm050-2023-apr/blob/master/notebooks/01_hellopeter/01-01_retrieve_data.ipynb) in another research project investigating: [Evaluating Customer Satisfaction and Preferences in the Telecommunications Industry: A Comparative Analysis of Survey Data and Online Reviews](https://github.com/JohnnyFoulds/dsm050-2023-apr/blob/master/notebooks/04_draft/04-04_cw02.ipynb)\n",
    "\n",
    "2. Data selection was perform in the `00-01_data_selection` notebook based on the following criteria.\n",
    "    - Reviews from the for the 5 month period from **2022-06-01** to **2023-06-30** were selected.\n",
    "\n",
    "    - Only reviews from the **Vodacom** telecommunications company were selected.\n",
    "\n",
    "    - Very short, or very long reviews were removed. Reviews between from **10** to **100** words were selected. The word count was calculated using a basic `.str.split().str.len()` which is sufficient for this purpose.\n",
    "\n",
    "3. The unlabeled data was then labeled in the `01-02_batch_classification` notebook using Generative AI.\n",
    "    - The **Mistral 7B v0.2** Large Language Model (LLM) were hosted on the local servier with [Ollama](https://ollama.com/library/mistral). Please refer to the `01-01_classification_test` notebook for further details.\n",
    "\n",
    "    - The classification was done using multiple prompts similar to Chain-of-Thought (CoT) techniques for classification. _Implementation details can be found in the `src` directory._\n",
    "\n",
    "    - Classification was done based on the categories defined in `src/config/category_definitions.jsonl`.\n",
    "\n",
    "    - It took an average of **7 seconds** to classify a single review.\n",
    "\n",
    "4. The data labels was then converted into a format suitable for modeling in the `02-01_data_preperation` notebook."
   ]
  },
  {
   "cell_type": "markdown",
   "metadata": {},
   "source": [
    "### 1.2 Data Structure"
   ]
  },
  {
   "cell_type": "markdown",
   "metadata": {},
   "source": [
    "#### Source Data\n",
    "\n",
    "The following shows a sample customer review from the original source data."
   ]
  },
  {
   "cell_type": "code",
   "execution_count": 3,
   "metadata": {},
   "outputs": [
    {
     "data": {
      "text/html": [
       "<div>\n",
       "<style scoped>\n",
       "    .dataframe tbody tr th:only-of-type {\n",
       "        vertical-align: middle;\n",
       "    }\n",
       "\n",
       "    .dataframe tbody tr th {\n",
       "        vertical-align: top;\n",
       "    }\n",
       "\n",
       "    .dataframe thead th {\n",
       "        text-align: right;\n",
       "    }\n",
       "</style>\n",
       "<table border=\"1\" class=\"dataframe\">\n",
       "  <thead>\n",
       "    <tr style=\"text-align: right;\">\n",
       "      <th></th>\n",
       "      <th>id</th>\n",
       "      <th>review_title</th>\n",
       "      <th>review_content</th>\n",
       "    </tr>\n",
       "  </thead>\n",
       "  <tbody>\n",
       "    <tr>\n",
       "      <th>5215</th>\n",
       "      <td>3950575</td>\n",
       "      <td>Vodacom is useless!!!</td>\n",
       "      <td>Good day\\n\\nAgain, vodacom did not do their jobs. The amount went off as I explicitly asked for it not to. Vodacom now owes me R300 as it has been debited from my account twice now. I will be taking this to social media now. And I want to please cancel all my contracts with vodacom.</td>\n",
       "    </tr>\n",
       "  </tbody>\n",
       "</table>\n",
       "</div>"
      ],
      "text/plain": [
       "           id           review_title  \\\n",
       "5215  3950575  Vodacom is useless!!!   \n",
       "\n",
       "                                                                                                                                                                                                                                                                                   review_content  \n",
       "5215  Good day\\n\\nAgain, vodacom did not do their jobs. The amount went off as I explicitly asked for it not to. Vodacom now owes me R300 as it has been debited from my account twice now. I will be taking this to social media now. And I want to please cancel all my contracts with vodacom.  "
      ]
     },
     "metadata": {},
     "output_type": "display_data"
    }
   ],
   "source": [
    "df_source = pd.read_parquet(orig_file)\n",
    "with pd.option_context('display.max_colwidth', None):\n",
    "    display(\n",
    "        df_source[df_source.id == 3950575]\n",
    "    )"
   ]
  },
  {
   "cell_type": "markdown",
   "metadata": {},
   "source": [
    "### Data Labels\n",
    "\n",
    "A sample of the labels extracted using the LLM is shown below. From this we can see that the LLM has extracted multiple labels for each review, and a reason is generated form each label for human verification."
   ]
  },
  {
   "cell_type": "code",
   "execution_count": 4,
   "metadata": {},
   "outputs": [
    {
     "data": {
      "text/html": [
       "<div>\n",
       "<style scoped>\n",
       "    .dataframe tbody tr th:only-of-type {\n",
       "        vertical-align: middle;\n",
       "    }\n",
       "\n",
       "    .dataframe tbody tr th {\n",
       "        vertical-align: top;\n",
       "    }\n",
       "\n",
       "    .dataframe thead th {\n",
       "        text-align: right;\n",
       "    }\n",
       "</style>\n",
       "<table border=\"1\" class=\"dataframe\">\n",
       "  <thead>\n",
       "    <tr style=\"text-align: right;\">\n",
       "      <th></th>\n",
       "      <th>category</th>\n",
       "      <th>reason</th>\n",
       "      <th>relevance</th>\n",
       "      <th>sentiment</th>\n",
       "      <th>id</th>\n",
       "    </tr>\n",
       "  </thead>\n",
       "  <tbody>\n",
       "    <tr>\n",
       "      <th>29</th>\n",
       "      <td>Billing</td>\n",
       "      <td>The text mentions that an amount was debited from the account twice.</td>\n",
       "      <td>1.0</td>\n",
       "      <td>negative</td>\n",
       "      <td>3950575</td>\n",
       "    </tr>\n",
       "    <tr>\n",
       "      <th>30</th>\n",
       "      <td>Cancellation</td>\n",
       "      <td>The text expresses the intent to cancel all contracts with Vodacom due to the billing issue.</td>\n",
       "      <td>1.0</td>\n",
       "      <td>negative</td>\n",
       "      <td>3950575</td>\n",
       "    </tr>\n",
       "    <tr>\n",
       "      <th>31</th>\n",
       "      <td>Customer's Feeling</td>\n",
       "      <td>The text contains a negative sentiment towards Vodacom.</td>\n",
       "      <td>0.5</td>\n",
       "      <td>negative</td>\n",
       "      <td>3950575</td>\n",
       "    </tr>\n",
       "  </tbody>\n",
       "</table>\n",
       "</div>"
      ],
      "text/plain": [
       "              category  \\\n",
       "29             Billing   \n",
       "30        Cancellation   \n",
       "31  Customer's Feeling   \n",
       "\n",
       "                                                                                          reason  \\\n",
       "29                          The text mentions that an amount was debited from the account twice.   \n",
       "30  The text expresses the intent to cancel all contracts with Vodacom due to the billing issue.   \n",
       "31                                       The text contains a negative sentiment towards Vodacom.   \n",
       "\n",
       "    relevance sentiment       id  \n",
       "29        1.0  negative  3950575  \n",
       "30        1.0  negative  3950575  \n",
       "31        0.5  negative  3950575  "
      ]
     },
     "metadata": {},
     "output_type": "display_data"
    }
   ],
   "source": [
    "df_intents_extracted = pd.read_parquet(intent_extract_file)\n",
    "with pd.option_context('display.max_colwidth', None):\n",
    "    display(\n",
    "        df_intents_extracted[df_intents_extracted.id == 3950575]\n",
    "    )"
   ]
  },
  {
   "cell_type": "markdown",
   "metadata": {},
   "source": [
    "### Prepared Data Labels\n",
    "\n",
    "The prepared data labels are shown below. The data labels are prepared for multi-label classification.\n",
    "\n",
    "This data will need to be combined with the `review_title` and `review_content` from the original source data to create the final dataset for modeling."
   ]
  },
  {
   "cell_type": "code",
   "execution_count": 5,
   "metadata": {},
   "outputs": [
    {
     "data": {
      "text/html": [
       "<div>\n",
       "<style scoped>\n",
       "    .dataframe tbody tr th:only-of-type {\n",
       "        vertical-align: middle;\n",
       "    }\n",
       "\n",
       "    .dataframe tbody tr th {\n",
       "        vertical-align: top;\n",
       "    }\n",
       "\n",
       "    .dataframe thead th {\n",
       "        text-align: right;\n",
       "    }\n",
       "</style>\n",
       "<table border=\"1\" class=\"dataframe\">\n",
       "  <thead>\n",
       "    <tr style=\"text-align: right;\">\n",
       "      <th></th>\n",
       "      <th>id</th>\n",
       "      <th>category_list</th>\n",
       "      <th>relevance_list</th>\n",
       "      <th>sentiment_list</th>\n",
       "    </tr>\n",
       "  </thead>\n",
       "  <tbody>\n",
       "    <tr>\n",
       "      <th>2</th>\n",
       "      <td>3950575</td>\n",
       "      <td>[Billing, Cancellation, Customer's Feeling]</td>\n",
       "      <td>[1.0, 1.0, 0.5]</td>\n",
       "      <td>[negative, negative, negative]</td>\n",
       "    </tr>\n",
       "  </tbody>\n",
       "</table>\n",
       "</div>"
      ],
      "text/plain": [
       "        id                                category_list   relevance_list  \\\n",
       "2  3950575  [Billing, Cancellation, Customer's Feeling]  [1.0, 1.0, 0.5]   \n",
       "\n",
       "                   sentiment_list  \n",
       "2  [negative, negative, negative]  "
      ]
     },
     "metadata": {},
     "output_type": "display_data"
    },
    {
     "name": "stdout",
     "output_type": "stream",
     "text": [
      "Data samples: 5218\n"
     ]
    }
   ],
   "source": [
    "df_intents = pd.read_parquet(intent_file)\n",
    "df_intents[\"category_list\"] = df_intents[\"category_list\"].apply(lambda x: list(x))\n",
    "df_intents[\"relevance_list\"] = df_intents[\"relevance_list\"].apply(lambda x: list(x))\n",
    "df_intents[\"sentiment_list\"] = df_intents[\"sentiment_list\"].apply(lambda x: list(x))\n",
    "\n",
    "with pd.option_context('display.max_colwidth', None):\n",
    "    display(\n",
    "        df_intents[df_intents.id == 3950575]\n",
    "    )\n",
    "\n",
    "print(f'Data samples: {len(df_source)}')"
   ]
  },
  {
   "cell_type": "markdown",
   "metadata": {},
   "source": [
    "## 2. Data Preprocessing"
   ]
  },
  {
   "cell_type": "markdown",
   "metadata": {},
   "source": [
    "### 2.1 Multi-label Binarization"
   ]
  },
  {
   "cell_type": "code",
   "execution_count": 17,
   "metadata": {},
   "outputs": [
    {
     "name": "stdout",
     "output_type": "stream",
     "text": [
      "Vocabulary:\n",
      "\n",
      "['[UNK]', \"Customer's Feeling\", 'Billing', 'Network Coverage', 'Cancellation', 'Policy', 'Account Management', 'Response', 'Resolution', 'Call Center', 'Staff Level', 'Devices', 'Price Plans', 'Abuse', 'Brand', 'Customer Feeling', 'Customer Service', 'Services', 'Service', 'Products', 'Delivery Enquiry', \"Customer's Feeling (Negative)\", 'Customer Service (Call Center)', \"Customer's Feeling (Not Happy)\", 'SIM', 'Fraud', 'Brand (Vodacom)', 'Insurance', 'Complaint', 'Contract', 'Communication', 'Sales Enquiry', \"Customer's Feeling (negative)\", 'Policy (Fraud)', 'Customer Service (Response)', 'Loadshedding', 'Billing Enquiry', \"Customer's Feeling - Not Happy\", \"Customer's Feeling (Frustration)\", 'Cancellation Enquiry', 'Data Bundle Enquiry', \"Customer's Feeling (not happy)\", 'Customer Feeling (Not Happy)', 'Customer Feeling (Negative)', 'Cancellation (MNP Port Enquiry)', 'Account Management (MSISDN change)', 'Network Coverage (Fibre)', \"Customer's Feeling > Not Happy\", 'Billing (Refund)', 'Payment', 'Network Coverage (Reliability)', 'Devices > Repair - Complaint', 'Charge Dispute', 'Call Center or Customer Service', 'Call Center (Customer Service)', 'Billing (Account Payment)', 'Upgrade Enquiry', 'Resolution - Complaint', 'Network Coverage or Service', 'Devices (Delivery Enquiry)', \"Customer's Feeling (dissatisfaction)\", \"Customer's Feeling (Poor service)\", \"Customer's Feeling (Dissatisfaction)\", \"Customer's Feeling (Disappointed)\", 'Call Center (Customer Care enquiry)', 'Billing or Account Management', 'Account Management (Contract)', 'Account Management (Change Account Details)', 'Vodacom Shop', 'Staff Level > Friendliness & care', 'Staff Level (misinformation)', 'Services > Vodacom App > Data Bundle Enquiry', 'Repair - Complaint', 'Policy or Resolution', 'Network Coverage or Services', 'Network Coverage > Reliability', 'Network Coverage > Fibre', 'Network Coverage (Roaming)', 'Network Coverage (Internet)', 'Marketing', 'Handset Enquiry', 'Efficiency', \"Customer's Feeling (poor service)\", \"Customer's Feeling (frustration)\", \"Customer's Feeling (Frustrated)\", \"Customer's Feeling (Angry)\", \"Customer's Feeling (Anger)\", 'Customer Service/Call Center', 'Customer Service enquiry', 'Customer Service (Staff Level)', 'Customer Feeling (Frustration)', 'Customer Care enquiry', 'Cancellation or Account Management', 'Call Center or Response', 'Call Center / Customer Service', 'Call Center (Response)', 'Call Center (Customer Care)', 'Breach of Contract', 'Billing or Price Plans', 'Billing (Price Plans)', 'Billing (Payment Arrangement)', 'Billing (Charge Dispute)', 'Account Management: MSISDN change', 'Account Management (Transfer of Ownership)', 'Account Management (Cancellation)', 'Abuse (Fraud)', 'Vouchers/Rewards', 'Vodacom Service (or Customer Service)', 'Vodacom Repair - Complaint', 'Vodacom Online', 'Vodacom (Brand)', 'User Experience (Website)', 'Urgent Requests', 'Unwanted Services or Products', 'Unwanted', 'Unauthorized Charges', 'Staff Level: communication, inconsistency, listening, understanding', 'Staff Level or Assistance & Helpfulness', 'Staff Level > inconsistency', 'Staff Level > Understanding > Cancellation Enquiries / Claims', 'Staff Level > Rudeness & Aggressiveness', 'Staff Level > Inconsistency', 'Staff Level > Fees', 'Staff Level > Broken Arrangements', 'Staff Level > Broken Arrangement', 'Staff Level > Assistance & Helpfulness > Poor', 'Staff Level - Inefficiency or Miscommunication', \"Staff Level (store manager's promise to resolve the issue)\", 'Staff Level (specifically staff behavior)', 'Staff Level (Unprofessional behavior)', 'Staff Level (Preston)', 'Staff Level (Efficiency)', 'Staff', 'Shop/Store', 'Shop Experience', 'Services: Products: Data Bundle Enquiry', 'Services > Website/App', 'Services > Vodacom Online/Vodapay > Voucher System', 'Services > Repair - Complaint', 'Services > Online Shopping/Website > Delivery Enquiry', 'Services (Vodacom Vibre)', 'Services (TOBI)', 'Service > Resolution > Account Query > Unresolved Issue', 'Service (with context around network service)', 'Service (Vodacom online system)', 'Service (Application Process or Contract Enquiry)', 'Security/Privacy', 'Security or Privacy', 'Security or Account Management', 'Security', 'Sales Enquiry or Product Purchase', 'Sales Enquiry (or Unwanted Calls)', 'SMS', 'SIM - Activation/Deactivation/Sim Swap Enquiry', 'Rewards Program', 'Returns', 'Response (waiting forever on the phone)', 'Response (No response received)', 'Response (No response from Vodacom)', 'Response (No feedback from Vodacom)', 'Response (No call back)', 'Response (Assistance and Helpfulness)', 'Resolution > Account Query > Complaint', \"Resolution (with a subcategory of 'Unresolved Issue')\", 'Resolution (issue with application and line being cut)', 'Resolution (Unsuccessful use of voucher)', 'Resolution (Unresolved)', 'Resolution (Unresolved issue)', 'Resolution (No resolution)', 'Resolution (Complaint)', 'Resolution (Account query, complaint)', 'Repair', 'Reliability', 'Refund Enquiry', 'Refund', 'Promotions or Offers', 'Promotions or Campaigns', 'Promotions', 'Products or Services', 'Products > Services > Vodacom Online, VodaPay, and voicemail > Vodacom Fibre', 'Products > Entertainment packs > Sharing data', 'Products > Contracts', 'Products / Price Plans', 'Products (insurance)', 'Products (Vodacom Rewards Vouchers)', 'Products (Sales Enquiry)', 'Products (Insurance)', 'Products (Contract)', 'Privacy', 'Price Plans or Policy', 'Price Plans - Charge Dispute', 'Poor Customer Service', 'Policy: Admin fee, Authentication, Request for Credit Refund, Fraud', 'Policy or Products (Product Complaint)', 'Policy or Fraud', 'Policy or Billing', 'Policy or Administration', 'Policy / Sales Enquiry', 'Policy - Request for Credit Refund', 'Policy - Authentication - Banking', 'Policy (admin fee, Authentication)', 'Policy (admin fee or deductions)', 'Policy (admin fee or contract)', 'Policy (Vodacom admin)', 'Policy (Unfair billing practices)', 'Policy (Request for Credit Refund)', 'Policy (Contract)', 'Policy (Contract terms and conditions)', 'Policy (Contract dispute)', 'Policy (Authenticity of information provided by agent)', 'Policy (Authentication)', 'Payment Arrangement', 'Other > Delivery Issues from Third-Party Suppliers', 'Online Services > Upgrade Enquiry', 'Online Services (Website)', 'Online Services', 'Online Service', 'Online Sales', 'Network Coverage: Signal, Reliability', 'Network Coverage: Internet, Signal, Reliability', 'Network Coverage: Fibre line', 'Network Coverage: Email/Internet', 'Network Coverage/Service', 'Network Coverage or Installation Issues', 'Network Coverage > Signal > Reliability', 'Network Coverage > Fiber > Release', 'Network Coverage > Delayed Response', 'Network Coverage - Speed', 'Network Coverage - Signal, Reliability, Speed', 'Network Coverage - Signal - Reliability', 'Network Coverage - Reliability - Poor', 'Network Coverage (router issue)', 'Network Coverage (or Reliability)', 'Network Coverage (loadshedding)', 'Network Coverage (eSIM activation)', 'Network Coverage (Vodacom Wi-Fi)', 'Network Coverage (Vodacom Fibre)', 'Network Coverage (Fibre or LTE)', 'Network Coverage (Fibre or Internet)', 'Network Coverage (Fiber or Mobile Data service) - Repairs and Maintenance', 'Network Coverage (Fiber Optic/Broadband)', 'Network Coverage (Delivery Enquiry)', 'Misinformation', 'Messaging (SMS)', 'Marketing/Promotions', 'Load Shedding', 'Internet', 'Insurance: Vodacom Insurance', 'Installation and Repairs', 'Fibre (Network Coverage)', 'Fibre', 'Ethics', 'Email Service', 'Email Communication', 'Devices or Delivery Enquiry', 'Devices > Upgrade Enquiry', 'Devices > Insurance > Complaint', 'Devices > Insurance', 'Devices > Handset Enquiry', 'Devices > Delivery Enquiry', 'Devices > Blacklist/Unblacklist Device > eSIM Activation', 'Devices > Blacklist/Unblacklist Device', 'Devices - Vodacom Repair - Complaint', 'Devices - Insurance', 'Devices (repair)', 'Devices (insurance, repair)', 'Devices (activation)', 'Devices (SIM card)', 'Devices (Hardware Issue)', 'Devices (Handset Enquiry, Repair - Complaint)', 'Devices (Device Upgrade Complaint)', 'Devices (Delivery Enquiry, Faulty Device)', 'Devices (Blacklist/Unblacklist Device)', 'Device', 'Delivery or Logistics', 'Delivery Enquiry or Logistics/Delivery', 'Delivery Enquiry or Logistics', 'Delivery Enquiry (under Devices category)', 'Data Usage', \"Customer's feeling\", \"Customer's Feeling: Not Happy\", \"Customer's Feeling/Response\", \"Customer's Feeling about Customer Service\", \"Customer's Feeling > Disappointment\", \"Customer's Feeling > Customer's Feeling\", \"Customer's Feeling > Complaint > Loyalty/Rewards\", \"Customer's Feeling / Poor service\", \"Customer's Feeling / Complaint\", \"Customer's Feeling - communication\", \"Customer's Feeling - Poor\", \"Customer's Feeling (with a subcategory of 'Not Happy')\", \"Customer's Feeling (specifically Poor Customer Service)\", \"Customer's Feeling (specifically 'pathetic')\", \"Customer's Feeling (regarding the customer's expression of dissatisfaction with Vodacom's service)\", \"Customer's Feeling (implies dissatisfaction)\", \"Customer's Feeling (frustration and dissatisfaction)\", \"Customer's Feeling (extremely dissatisfied)\", \"Customer's Feeling (expressing dissatisfaction)\", \"Customer's Feeling (disappointment)\", \"Customer's Feeling (annoyed)\", \"Customer's Feeling (Unhappy Customer)\", \"Customer's Feeling (Satisfaction)\", \"Customer's Feeling (Positive Feedback)\", \"Customer's Feeling (Poor service, Unresolved issue)\", \"Customer's Feeling (Poor Service)\", \"Customer's Feeling (Not happy)\", \"Customer's Feeling (Not Impressed)\", \"Customer's Feeling (Not Honoured)\", \"Customer's Feeling (Negative Feedback)\", \"Customer's Feeling (Inefficient service)\", \"Customer's Feeling (Happy)\", \"Customer's Feeling (Had it with Vodacom's incompetence)\", \"Customer's Feeling (Gratitude)\", \"Customer's Feeling (Dissatisfied)\", \"Customer's Feeling (Disgusted)\", \"Customer's Feeling (Disappointment)\", \"Customer's Feeling (Disappointing)\", \"Customer's Feeling (Awesome service)\", \"Customer's Feeling (Annoyance, Frustration)\", 'Customer Service or Response', 'Customer Service Enquiry', 'Customer Service > Products > Data Bundle Enquiry > Issue with purchased data > Incorrect information provided by Vodacom', 'Customer Service > Call Center Interaction', 'Customer Service > Call Center > Unresolved Support Tickets', 'Customer Service / Resolution', 'Customer Service - Resolution', 'Customer Service - Positive Feedback', 'Customer Service - Call Center', 'Customer Service (poor)', 'Customer Service (or Response)', 'Customer Service (Resolution)', 'Customer Service (Call Center) or Response', 'Customer Service (Call Center or Shop)', 'Customer Service (Call Center or Customer Care enquiry)', 'Customer Satisfaction', 'Customer Feeling (optional)', 'Customer Feeling (Positive)', 'Customer Feeling (Dissatisfaction)', 'Customer Feeling (Disappointing Service)', 'Customer Experience > Complaint > Phone Repair', 'Customer Experience (specifically, Renewal or Upgrade process)', 'Crisis', 'Contracts', 'Complaint / Resolution', 'Complaint (Resolution)', 'Communication or Assistance & Helpfulness', 'Cancellation/Transfer of Ownership', 'Cancellation or Refund', 'Cancellation or MNP Port Enquiry', 'Cancellation or Complaint', 'Cancellation or Billing', 'Cancellation Enquiry or Request for Credit Refund', 'Cancellation > Cancellation Enquiry', 'Cancellation / MNP Port Enquiry', 'Cancellation / Claims', 'Cancellation (Unwanted)', 'Cancellation (MNP Port Enquiry or Cancellation Enquiry)', 'Call Center: No call back from customer service', 'Call Center: Customer Care enquiry or complaint', 'Call Center or Customer Care enquiry', 'Call Center or Customer Care', 'Call Center > Customer Care enquiry > Staff Level > Rudeness and Inconsistency', 'Call Center / Self-Service / IVR', 'Call Center - Unwanted Calls', 'Call Center - Response - Unresolved Issue', 'Call Center - Customer Care enquiry', 'Call Center - Complaint', 'Call Center (or Response)', 'Call Center (Unresponsiveness)', 'Call Center (The customer called in to clarify details)', 'Call Center (Rude service)', 'Call Center (Insurance department)', 'Call Center (Customer Care Enquiry)', 'Business', 'Brand: Vuma Fibre', 'Brand: Vodacom', 'Brand > Vodacom', 'Brand (Vodapay)', 'Brand (Vodacom Insurance)', 'Brand (Vodacom Business)', 'Brand (Proline)', 'Brand (MTN)', 'Brand (MTN or Telkom)', \"Brand (Customer's Feeling)\", 'Billing/Price Plans', 'Billing/Account Management', 'Billing or Resolution', 'Billing or Reimbursement', 'Billing or Refunds', 'Billing or Refund', 'Billing Enquiry or Account Payment', 'Billing > Refund Request', 'Billing > Charge Dispute', 'Billing > Billing Enquiry', 'Billing / Cancellation', 'Billing - Unfair Charging or Billing Errors', 'Billing - Billing Enquiry', 'Billing - Account Payment', 'Billing (if there is a discrepancy between paid and delivered internet speed)', 'Billing (Request for Credit Refund)', 'Billing (Promises and Commitments)', 'Billing (Fraud)', 'Billing (Deductions)', 'Billing (Charge Dispute or Uninformed Charges)', 'Billing (Account Payment or Credit Refund)', 'Application Process', 'Advertising and Marketing - Misrepresentation', 'Activation', 'Account Management: Change Account Details', 'Account Management/Billing', 'Account Management or Policy', 'Account Management or Customer Service', 'Account Management > Change Account Details > Swap Request', 'Account Management > Activation Enquiry', 'Account Management / SIM', 'Account Management - Cancellation Enquiry', 'Account Management (specifically Cancellation Enquiry or MNP Port Enquiry)', 'Account Management (line relocation)', \"Account Management (implied in 'contract I never received')\", 'Account Management (hacked account)', 'Account Management (contract)', 'Account Management (cancellation enquiry)', 'Account Management (Resolution)', 'Account Management (Relocations, Installation, Cancellation)', 'Account Management (Payment Issue)', 'Account Management (MSISDN change or activation)', 'Account Management (Fraud)', 'Account Management (Customer Service Response Time)', 'Account Management (Contract Enquiry, Communication)', 'Account Management (Change of MSISDN)', 'Account Management (Cancellation Enquiry)', 'Account Management (Cancellation Enquiry or Lost/Stolen Device)', 'Account Management (Billing)', 'Account Management (Activation/Deactivation)', 'Abuse - Unprofessional behavior', 'Abuse (Harassment)']\n",
      "Vocabulary size: 436\n"
     ]
    }
   ],
   "source": [
    "# get the list of category target values\n",
    "categories = tf.ragged.constant(df_intents.category_list.values)\n",
    "\n",
    "# learn the vocabulary\n",
    "lookup = keras.layers.StringLookup(output_mode=\"multi_hot\")\n",
    "lookup.adapt(categories)\n",
    "\n",
    "# show the vocabulary\n",
    "vocab = lookup.get_vocabulary()\n",
    "print(\"Vocabulary:\\n\")\n",
    "print(lookup.get_vocabulary())\n",
    "print(f'Vocabulary size: {len(vocab)}')"
   ]
  },
  {
   "cell_type": "markdown",
   "metadata": {},
   "source": [
    "## 3. Train Test Split\n",
    "\n",
    "In a multi-label classification problem, imbalance can occur at two levels:\n",
    "\n",
    "1. **Label imbalance**: Some labels appear more frequently than others.\n",
    "2. **Label combination imbalance**: Some combinations of labels appear more frequently than others.\n",
    "\n",
    "Both these imbalances are present in the dataset. Imbalance can lead to a model that performs well on the majority classes but poorly on the minority classes. This is because the model might be biased towards predicting the majority classes due to their higher occurrence in the training data.\n",
    "\n",
    "To address this, we will ideally use a stratified split to ensure that the distribution of labels in the training and validation sets is similar."
   ]
  },
  {
   "cell_type": "code",
   "execution_count": 6,
   "metadata": {},
   "outputs": [
    {
     "name": "stdout",
     "output_type": "stream",
     "text": [
      "Combination Category Count  : 955\n",
      "Combinations with one sample: 646\n"
     ]
    }
   ],
   "source": [
    "df_category_count = df_intents.category_list.value_counts().reset_index()\n",
    "df_category_count.columns = ['category', 'samples']\n",
    "\n",
    "print(f'Combination Category Count  : {len(df_category_count)}')\n",
    "print(f'Combinations with one sample: {len(df_category_count[df_category_count.samples == 1])}')"
   ]
  },
  {
   "cell_type": "markdown",
   "metadata": {},
   "source": [
    "Unfortunately we can see that a large proportion (0.68) of the unique category combinations have only one sample. This means that we will not be able to use a stratified split, as the validation set will not contain any of these unique combinations."
   ]
  },
  {
   "cell_type": "code",
   "execution_count": 7,
   "metadata": {},
   "outputs": [
    {
     "name": "stdout",
     "output_type": "stream",
     "text": [
      "Number of rows in training set   :  3214\n",
      "Number of rows in validation set :   803\n",
      "Number of rows in test set       :  1005\n"
     ]
    }
   ],
   "source": [
    "test_split = 0.2\n",
    "\n",
    "# initial train and test split\n",
    "train_full_df, test_df = train_test_split(\n",
    "    df_intents,\n",
    "    test_size=test_split\n",
    ")\n",
    "\n",
    "# splitting the train set further into validation and new train sets\n",
    "val_df = train_full_df.sample(frac=0.2)\n",
    "train_df = train_full_df.drop(val_df.index)\n",
    "\n",
    "print(f\"Number of rows in training set   : {len(train_df):>5}\")\n",
    "print(f\"Number of rows in validation set : {len(val_df):>5}\")\n",
    "print(f\"Number of rows in test set       : {len(test_df):>5}\")"
   ]
  },
  {
   "cell_type": "markdown",
   "metadata": {},
   "source": [
    "## 4. Modeling"
   ]
  },
  {
   "cell_type": "markdown",
   "metadata": {},
   "source": [
    "### 4.1 Baseline\n",
    "\n",
    "For a multi-label text classification task in Natural Language Processing (NLP), a commonsense baseline could be designed using simple heuristics based on the frequency of specific keywords or phrases associated with each label. Multi-label classification differs from binary or multi-class classification in that each text instance can be associated with multiple labels simultaneously, rather than belonging to just one category.\n",
    "\n",
    "To accomplish this we could start with  simple libraries like the [Natural Laugage Toolkit (NLTK)](https://www.nltk.org/) to tokenize the text and count the frequency of specific words or phrases associated with each label. We could then use these frequencies to predict the labels for new text instances. However for the sake of simplicity we will instead start with a very basic deep learning model."
   ]
  }
 ],
 "metadata": {
  "kernelspec": {
   "display_name": "multi-intent",
   "language": "python",
   "name": "python3"
  },
  "language_info": {
   "codemirror_mode": {
    "name": "ipython",
    "version": 3
   },
   "file_extension": ".py",
   "mimetype": "text/x-python",
   "name": "python",
   "nbconvert_exporter": "python",
   "pygments_lexer": "ipython3",
   "version": "3.10.13"
  }
 },
 "nbformat": 4,
 "nbformat_minor": 2
}
