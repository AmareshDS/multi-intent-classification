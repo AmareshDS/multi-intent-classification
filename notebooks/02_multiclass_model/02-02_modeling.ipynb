{
 "cells": [
  {
   "cell_type": "markdown",
   "metadata": {},
   "source": [
    "# 02-02 : Multi-label text classification\n",
    "\n",
    "After extracting intents, we use Keras, a comprehensive deep learning library, to develop a multi-class classification model.\n",
    "\n",
    "## References\n",
    "\n",
    "- [Large-scale multi-label text classification](https://keras.io/examples/nlp/multi_label_classification/)"
   ]
  },
  {
   "cell_type": "code",
   "execution_count": 1,
   "metadata": {},
   "outputs": [
    {
     "name": "stderr",
     "output_type": "stream",
     "text": [
      "2024-03-18 11:56:13.587399: E external/local_xla/xla/stream_executor/cuda/cuda_dnn.cc:9261] Unable to register cuDNN factory: Attempting to register factory for plugin cuDNN when one has already been registered\n",
      "2024-03-18 11:56:13.587439: E external/local_xla/xla/stream_executor/cuda/cuda_fft.cc:607] Unable to register cuFFT factory: Attempting to register factory for plugin cuFFT when one has already been registered\n",
      "2024-03-18 11:56:13.588362: E external/local_xla/xla/stream_executor/cuda/cuda_blas.cc:1515] Unable to register cuBLAS factory: Attempting to register factory for plugin cuBLAS when one has already been registered\n",
      "2024-03-18 11:56:13.592878: I tensorflow/core/platform/cpu_feature_guard.cc:182] This TensorFlow binary is optimized to use available CPU instructions in performance-critical operations.\n",
      "To enable the following instructions: AVX2 FMA, in other operations, rebuild TensorFlow with the appropriate compiler flags.\n",
      "2024-03-18 11:56:14.089892: W tensorflow/compiler/tf2tensorrt/utils/py_utils.cc:38] TF-TRT Warning: Could not find TensorRT\n"
     ]
    }
   ],
   "source": [
    "import pandas as pd\n",
    "import numpy as np\n",
    "import matplotlib.pyplot as plt\n",
    "from typing import List, Optional\n",
    "from IPython.display import display, Markdown\n",
    "\n",
    "from tensorflow.keras import layers\n",
    "from tensorflow import keras\n",
    "import tensorflow as tf\n",
    "\n",
    "from sklearn.model_selection import train_test_split"
   ]
  },
  {
   "cell_type": "markdown",
   "metadata": {},
   "source": [
    "## 1. Data Description"
   ]
  },
  {
   "cell_type": "code",
   "execution_count": 2,
   "metadata": {},
   "outputs": [],
   "source": [
    "data_path = '../../data'\n",
    "\n",
    "orig_data_path = f'{data_path}/hellopeter'\n",
    "orig_file = f'{orig_data_path}/00-01_vodacom_selected_reviews.parquet.gz'\n",
    "\n",
    "intent_path = f'{data_path}/multiclass_model'\n",
    "intent_extract_file = f'{intent_path}/01-03_intents.parquet.gz'\n",
    "intent_file = f'{intent_path}/02-01_flat_intents.parquet.gz'"
   ]
  },
  {
   "cell_type": "markdown",
   "metadata": {},
   "source": [
    "### 1.1. Data Lineage\n",
    "\n",
    "1. The original dataset is a collection publicly accessible customer reviews/complaints scraped from [Hellopeter](https://www.hellopeter.com/) site between 2021 and 2023. This dataset was [created](https://github.com/JohnnyFoulds/dsm050-2023-apr/blob/master/notebooks/01_hellopeter/01-01_retrieve_data.ipynb) in another research project investigating: [Evaluating Customer Satisfaction and Preferences in the Telecommunications Industry: A Comparative Analysis of Survey Data and Online Reviews](https://github.com/JohnnyFoulds/dsm050-2023-apr/blob/master/notebooks/04_draft/04-04_cw02.ipynb)\n",
    "\n",
    "2. Data selection was perform in the `00-01_data_selection` notebook based on the following criteria.\n",
    "    - Reviews from the for the 5 month period from **2022-06-01** to **2023-06-30** were selected.\n",
    "\n",
    "    - Only reviews from the **Vodacom** telecommunications company were selected.\n",
    "\n",
    "    - Very short, or very long reviews were removed. Reviews between from **10** to **100** words were selected. The word count was calculated using a basic `.str.split().str.len()` which is sufficient for this purpose.\n",
    "\n",
    "3. The unlabeled data was then labeled in the `01-02_batch_classification` notebook using Generative AI.\n",
    "    - The **Mistral 7B v0.2** Large Language Model (LLM) were hosted on the local servier with [Ollama](https://ollama.com/library/mistral). Please refer to the `01-01_classification_test` notebook for further details.\n",
    "\n",
    "    - The classification was done using multiple prompts similar to Chain-of-Thought (CoT) techniques for classification. _Implementation details can be found in the `src` directory._\n",
    "\n",
    "    - Classification was done based on the categories defined in `src/config/category_definitions.jsonl`.\n",
    "\n",
    "    - It took an average of **7 seconds** to classify a single review.\n",
    "\n",
    "4. Using Generative AI for labeling introduced new categories that were cleaned up in the `01-03_cleanup` notebook.\n",
    "\n",
    "    - First new categories that were prefixed with an original category were replaced.\n",
    "\n",
    "    - Then, new categories that contained an original category in round brackets were replaced with the original.\n",
    "\n",
    "    - For the remaining new categories, the reviews were manually inspected and the reviews were reclassified via manual mapping.\n",
    "\n",
    "5. The data labels was then converted into a format suitable for modeling in the `02-01_data_preperation` notebook."
   ]
  },
  {
   "cell_type": "markdown",
   "metadata": {},
   "source": [
    "### 1.2. Data Structure"
   ]
  },
  {
   "cell_type": "markdown",
   "metadata": {},
   "source": [
    "#### Source Data\n",
    "\n",
    "The following shows a sample customer review from the original source data."
   ]
  },
  {
   "cell_type": "code",
   "execution_count": 3,
   "metadata": {},
   "outputs": [
    {
     "data": {
      "text/html": [
       "<div>\n",
       "<style scoped>\n",
       "    .dataframe tbody tr th:only-of-type {\n",
       "        vertical-align: middle;\n",
       "    }\n",
       "\n",
       "    .dataframe tbody tr th {\n",
       "        vertical-align: top;\n",
       "    }\n",
       "\n",
       "    .dataframe thead th {\n",
       "        text-align: right;\n",
       "    }\n",
       "</style>\n",
       "<table border=\"1\" class=\"dataframe\">\n",
       "  <thead>\n",
       "    <tr style=\"text-align: right;\">\n",
       "      <th></th>\n",
       "      <th>id</th>\n",
       "      <th>review_title</th>\n",
       "      <th>review_content</th>\n",
       "    </tr>\n",
       "  </thead>\n",
       "  <tbody>\n",
       "    <tr>\n",
       "      <th>5215</th>\n",
       "      <td>3950575</td>\n",
       "      <td>Vodacom is useless!!!</td>\n",
       "      <td>Good day\\n\\nAgain, vodacom did not do their jobs. The amount went off as I explicitly asked for it not to. Vodacom now owes me R300 as it has been debited from my account twice now. I will be taking this to social media now. And I want to please cancel all my contracts with vodacom.</td>\n",
       "    </tr>\n",
       "  </tbody>\n",
       "</table>\n",
       "</div>"
      ],
      "text/plain": [
       "           id           review_title  \\\n",
       "5215  3950575  Vodacom is useless!!!   \n",
       "\n",
       "                                                                                                                                                                                                                                                                                   review_content  \n",
       "5215  Good day\\n\\nAgain, vodacom did not do their jobs. The amount went off as I explicitly asked for it not to. Vodacom now owes me R300 as it has been debited from my account twice now. I will be taking this to social media now. And I want to please cancel all my contracts with vodacom.  "
      ]
     },
     "metadata": {},
     "output_type": "display_data"
    }
   ],
   "source": [
    "df_source = pd.read_parquet(orig_file)\n",
    "with pd.option_context('display.max_colwidth', None):\n",
    "    display(\n",
    "        df_source[df_source.id == 3950575]\n",
    "    )"
   ]
  },
  {
   "cell_type": "markdown",
   "metadata": {},
   "source": [
    "### Data Labels\n",
    "\n",
    "A sample of the labels extracted using the LLM is shown below. From this we can see that the LLM has extracted multiple labels for each review, and a reason is generated form each label for human verification."
   ]
  },
  {
   "cell_type": "code",
   "execution_count": 4,
   "metadata": {},
   "outputs": [
    {
     "data": {
      "text/html": [
       "<div>\n",
       "<style scoped>\n",
       "    .dataframe tbody tr th:only-of-type {\n",
       "        vertical-align: middle;\n",
       "    }\n",
       "\n",
       "    .dataframe tbody tr th {\n",
       "        vertical-align: top;\n",
       "    }\n",
       "\n",
       "    .dataframe thead th {\n",
       "        text-align: right;\n",
       "    }\n",
       "</style>\n",
       "<table border=\"1\" class=\"dataframe\">\n",
       "  <thead>\n",
       "    <tr style=\"text-align: right;\">\n",
       "      <th></th>\n",
       "      <th>category</th>\n",
       "      <th>reason</th>\n",
       "      <th>relevance</th>\n",
       "      <th>sentiment</th>\n",
       "      <th>id</th>\n",
       "    </tr>\n",
       "  </thead>\n",
       "  <tbody>\n",
       "    <tr>\n",
       "      <th>29</th>\n",
       "      <td>Billing</td>\n",
       "      <td>The text mentions that an amount was debited from the account twice.</td>\n",
       "      <td>1.0</td>\n",
       "      <td>negative</td>\n",
       "      <td>3950575</td>\n",
       "    </tr>\n",
       "    <tr>\n",
       "      <th>30</th>\n",
       "      <td>Cancellation</td>\n",
       "      <td>The text expresses the intent to cancel all contracts with Vodacom due to the billing issue.</td>\n",
       "      <td>1.0</td>\n",
       "      <td>negative</td>\n",
       "      <td>3950575</td>\n",
       "    </tr>\n",
       "    <tr>\n",
       "      <th>31</th>\n",
       "      <td>Customer's Feeling</td>\n",
       "      <td>The text contains a negative sentiment towards Vodacom.</td>\n",
       "      <td>0.5</td>\n",
       "      <td>negative</td>\n",
       "      <td>3950575</td>\n",
       "    </tr>\n",
       "  </tbody>\n",
       "</table>\n",
       "</div>"
      ],
      "text/plain": [
       "              category  \\\n",
       "29             Billing   \n",
       "30        Cancellation   \n",
       "31  Customer's Feeling   \n",
       "\n",
       "                                                                                          reason  \\\n",
       "29                          The text mentions that an amount was debited from the account twice.   \n",
       "30  The text expresses the intent to cancel all contracts with Vodacom due to the billing issue.   \n",
       "31                                       The text contains a negative sentiment towards Vodacom.   \n",
       "\n",
       "    relevance sentiment       id  \n",
       "29        1.0  negative  3950575  \n",
       "30        1.0  negative  3950575  \n",
       "31        0.5  negative  3950575  "
      ]
     },
     "metadata": {},
     "output_type": "display_data"
    }
   ],
   "source": [
    "df_intents_extracted = pd.read_parquet(intent_extract_file)\n",
    "with pd.option_context('display.max_colwidth', None):\n",
    "    display(\n",
    "        df_intents_extracted[df_intents_extracted.id == 3950575]\n",
    "    )"
   ]
  },
  {
   "cell_type": "markdown",
   "metadata": {},
   "source": [
    "### Prepared Data Labels\n",
    "\n",
    "The prepared data labels are shown below. The data labels are prepared for multi-label classification.\n",
    "\n",
    "This data will need to be combined with the `review_title` and `review_content` from the original source data to create the final dataset for modeling."
   ]
  },
  {
   "cell_type": "code",
   "execution_count": 5,
   "metadata": {},
   "outputs": [
    {
     "data": {
      "text/html": [
       "<div>\n",
       "<style scoped>\n",
       "    .dataframe tbody tr th:only-of-type {\n",
       "        vertical-align: middle;\n",
       "    }\n",
       "\n",
       "    .dataframe tbody tr th {\n",
       "        vertical-align: top;\n",
       "    }\n",
       "\n",
       "    .dataframe thead th {\n",
       "        text-align: right;\n",
       "    }\n",
       "</style>\n",
       "<table border=\"1\" class=\"dataframe\">\n",
       "  <thead>\n",
       "    <tr style=\"text-align: right;\">\n",
       "      <th></th>\n",
       "      <th>id</th>\n",
       "      <th>category_list</th>\n",
       "      <th>relevance_list</th>\n",
       "      <th>sentiment_list</th>\n",
       "    </tr>\n",
       "  </thead>\n",
       "  <tbody>\n",
       "    <tr>\n",
       "      <th>2</th>\n",
       "      <td>3950575</td>\n",
       "      <td>[Billing, Cancellation, Customer's Feeling]</td>\n",
       "      <td>[1.0, 1.0, 0.5]</td>\n",
       "      <td>[negative, negative, negative]</td>\n",
       "    </tr>\n",
       "  </tbody>\n",
       "</table>\n",
       "</div>"
      ],
      "text/plain": [
       "        id                                category_list   relevance_list  \\\n",
       "2  3950575  [Billing, Cancellation, Customer's Feeling]  [1.0, 1.0, 0.5]   \n",
       "\n",
       "                   sentiment_list  \n",
       "2  [negative, negative, negative]  "
      ]
     },
     "metadata": {},
     "output_type": "display_data"
    },
    {
     "name": "stdout",
     "output_type": "stream",
     "text": [
      "Data samples: 5218\n"
     ]
    }
   ],
   "source": [
    "df_intents = pd.read_parquet(intent_file)\n",
    "df_intents[\"category_list\"] = df_intents[\"category_list\"].apply(lambda x: list(x))\n",
    "df_intents[\"relevance_list\"] = df_intents[\"relevance_list\"].apply(lambda x: list(x))\n",
    "df_intents[\"sentiment_list\"] = df_intents[\"sentiment_list\"].apply(lambda x: list(x))\n",
    "\n",
    "with pd.option_context('display.max_colwidth', None):\n",
    "    display(\n",
    "        df_intents[df_intents.id == 3950575]\n",
    "    )\n",
    "\n",
    "print(f'Data samples: {len(df_source)}')"
   ]
  },
  {
   "cell_type": "markdown",
   "metadata": {},
   "source": [
    "## 2. Data Preprocessing"
   ]
  },
  {
   "cell_type": "markdown",
   "metadata": {},
   "source": [
    "### 2.1. Multi-label Binarization"
   ]
  },
  {
   "cell_type": "code",
   "execution_count": 6,
   "metadata": {},
   "outputs": [
    {
     "name": "stderr",
     "output_type": "stream",
     "text": [
      "2024-03-18 11:56:14.844110: I external/local_xla/xla/stream_executor/cuda/cuda_executor.cc:901] successful NUMA node read from SysFS had negative value (-1), but there must be at least one NUMA node, so returning NUMA node zero. See more at https://github.com/torvalds/linux/blob/v6.0/Documentation/ABI/testing/sysfs-bus-pci#L344-L355\n",
      "2024-03-18 11:56:14.873794: I external/local_xla/xla/stream_executor/cuda/cuda_executor.cc:901] successful NUMA node read from SysFS had negative value (-1), but there must be at least one NUMA node, so returning NUMA node zero. See more at https://github.com/torvalds/linux/blob/v6.0/Documentation/ABI/testing/sysfs-bus-pci#L344-L355\n",
      "2024-03-18 11:56:14.873979: I external/local_xla/xla/stream_executor/cuda/cuda_executor.cc:901] successful NUMA node read from SysFS had negative value (-1), but there must be at least one NUMA node, so returning NUMA node zero. See more at https://github.com/torvalds/linux/blob/v6.0/Documentation/ABI/testing/sysfs-bus-pci#L344-L355\n",
      "2024-03-18 11:56:14.875115: I external/local_xla/xla/stream_executor/cuda/cuda_executor.cc:901] successful NUMA node read from SysFS had negative value (-1), but there must be at least one NUMA node, so returning NUMA node zero. See more at https://github.com/torvalds/linux/blob/v6.0/Documentation/ABI/testing/sysfs-bus-pci#L344-L355\n",
      "2024-03-18 11:56:14.875285: I external/local_xla/xla/stream_executor/cuda/cuda_executor.cc:901] successful NUMA node read from SysFS had negative value (-1), but there must be at least one NUMA node, so returning NUMA node zero. See more at https://github.com/torvalds/linux/blob/v6.0/Documentation/ABI/testing/sysfs-bus-pci#L344-L355\n",
      "2024-03-18 11:56:14.875449: I external/local_xla/xla/stream_executor/cuda/cuda_executor.cc:901] successful NUMA node read from SysFS had negative value (-1), but there must be at least one NUMA node, so returning NUMA node zero. See more at https://github.com/torvalds/linux/blob/v6.0/Documentation/ABI/testing/sysfs-bus-pci#L344-L355\n",
      "2024-03-18 11:56:14.932322: I external/local_xla/xla/stream_executor/cuda/cuda_executor.cc:901] successful NUMA node read from SysFS had negative value (-1), but there must be at least one NUMA node, so returning NUMA node zero. See more at https://github.com/torvalds/linux/blob/v6.0/Documentation/ABI/testing/sysfs-bus-pci#L344-L355\n",
      "2024-03-18 11:56:14.932503: I external/local_xla/xla/stream_executor/cuda/cuda_executor.cc:901] successful NUMA node read from SysFS had negative value (-1), but there must be at least one NUMA node, so returning NUMA node zero. See more at https://github.com/torvalds/linux/blob/v6.0/Documentation/ABI/testing/sysfs-bus-pci#L344-L355\n",
      "2024-03-18 11:56:14.932664: I external/local_xla/xla/stream_executor/cuda/cuda_executor.cc:901] successful NUMA node read from SysFS had negative value (-1), but there must be at least one NUMA node, so returning NUMA node zero. See more at https://github.com/torvalds/linux/blob/v6.0/Documentation/ABI/testing/sysfs-bus-pci#L344-L355\n",
      "2024-03-18 11:56:14.932785: I tensorflow/core/common_runtime/gpu/gpu_device.cc:1929] Created device /job:localhost/replica:0/task:0/device:GPU:0 with 9336 MB memory:  -> device: 0, name: NVIDIA GeForce RTX 3080 Ti, pci bus id: 0000:08:00.0, compute capability: 8.6\n"
     ]
    },
    {
     "name": "stdout",
     "output_type": "stream",
     "text": [
      "Vocabulary:\n",
      "\n",
      "['[UNK]', \"Customer's Feeling\", 'Billing', 'Network Coverage', 'Cancellation', 'Call Center', 'Policy', 'Account Management', 'Response', 'Resolution', 'Devices', 'Staff Level', 'Price Plans', 'Brand', 'Abuse', 'Products', 'Service', 'Services', 'SIM', 'Other']\n",
      "Vocabulary size: 20\n"
     ]
    }
   ],
   "source": [
    "# get the list of category target values\n",
    "categories = tf.ragged.constant(df_intents.category_list.values)\n",
    "\n",
    "# learn the vocabulary\n",
    "lookup = keras.layers.StringLookup(output_mode=\"multi_hot\")\n",
    "lookup.adapt(categories)\n",
    "\n",
    "# show the vocabulary\n",
    "vocab = lookup.get_vocabulary()\n",
    "print(\"Vocabulary:\\n\")\n",
    "print(lookup.get_vocabulary())\n",
    "print(f'Vocabulary size: {len(vocab)}')"
   ]
  },
  {
   "cell_type": "markdown",
   "metadata": {},
   "source": [
    "The following sample illustrates the binarization of the multi-labels. The multiple labels are encoded into a binary matrix where the positions corresponding with the labels have a value of 1."
   ]
  },
  {
   "cell_type": "code",
   "execution_count": 7,
   "metadata": {},
   "outputs": [
    {
     "name": "stdout",
     "output_type": "stream",
     "text": [
      "Original label: ['Billing', 'Cancellation', \"Customer's Feeling\"]\n",
      "Label-binarized representation: [[0. 1. 1. 0. 1. 0. 0. 0. 0. 0. 0. 0. 0. 0. 0. 0. 0. 0. 0. 0.]]\n"
     ]
    }
   ],
   "source": [
    "# find a sample label to test the lookup\n",
    "sample_label = df_intents[df_intents.id == 3950575].category_list.values[0]\n",
    "\n",
    "print(f\"Original label: {sample_label}\")\n",
    "\n",
    "# binarize the label\n",
    "label_binarized = lookup([sample_label])\n",
    "print(f\"Label-binarized representation: {label_binarized}\")"
   ]
  },
  {
   "cell_type": "markdown",
   "metadata": {},
   "source": [
    "The `invert_multi_hot` function is used to convert the binary matrix back into the original labels."
   ]
  },
  {
   "cell_type": "code",
   "execution_count": 8,
   "metadata": {},
   "outputs": [
    {
     "data": {
      "text/plain": [
       "array([\"Customer's Feeling\", 'Billing', 'Cancellation'], dtype='<U18')"
      ]
     },
     "execution_count": 8,
     "metadata": {},
     "output_type": "execute_result"
    }
   ],
   "source": [
    "def invert_multi_hot(encoded_labels, lookup:keras.layers.StringLookup):\n",
    "    \"\"\"Reverse a single multi-hot encoded label to a tuple of vocab terms.\"\"\"\n",
    "    # get the vocabulary\n",
    "    vocab = lookup.get_vocabulary()\n",
    "\n",
    "    hot_indices = np.argwhere(encoded_labels == 1.0)[..., 0]\n",
    "    return np.take(vocab, hot_indices)\n",
    "\n",
    "## test the inverse function\n",
    "invert_multi_hot(label_binarized[0], lookup)"
   ]
  },
  {
   "cell_type": "markdown",
   "metadata": {},
   "source": [
    "### 2.2. Prepare Dataset\n",
    "\n",
    "Prepare a dataset for training and testing."
   ]
  },
  {
   "cell_type": "code",
   "execution_count": 9,
   "metadata": {},
   "outputs": [
    {
     "data": {
      "text/html": [
       "<div>\n",
       "<style scoped>\n",
       "    .dataframe tbody tr th:only-of-type {\n",
       "        vertical-align: middle;\n",
       "    }\n",
       "\n",
       "    .dataframe tbody tr th {\n",
       "        vertical-align: top;\n",
       "    }\n",
       "\n",
       "    .dataframe thead th {\n",
       "        text-align: right;\n",
       "    }\n",
       "</style>\n",
       "<table border=\"1\" class=\"dataframe\">\n",
       "  <thead>\n",
       "    <tr style=\"text-align: right;\">\n",
       "      <th></th>\n",
       "      <th>id</th>\n",
       "      <th>review_text</th>\n",
       "      <th>category_encoded</th>\n",
       "    </tr>\n",
       "  </thead>\n",
       "  <tbody>\n",
       "    <tr>\n",
       "      <th>0</th>\n",
       "      <td>3950516</td>\n",
       "      <td>**Vodacom fraudster**\\n\\nVodacom is a scam! Never ever take, a contract  with those people. I had a, contract ending end October. End August I called them and cancelled the contract. I was suprised to find myself at credit bureau while I was looking for a house bond. They didn't cancel my contract. I call them, the system shows I indeed cancel the contract but they don't know why t wasn't cancelled. They are taking me from pillar to post and my life is at a, standstill. Fraudsters</td>\n",
       "      <td>[0.0, 0.0, 0.0, 0.0, 1.0, 0.0, 1.0, 0.0, 0.0, 0.0, 0.0, 0.0, 0.0, 0.0, 0.0, 0.0, 0.0, 0.0, 0.0, 0.0]</td>\n",
       "    </tr>\n",
       "    <tr>\n",
       "      <th>1</th>\n",
       "      <td>3950535</td>\n",
       "      <td>**bad service**\\n\\nstill awating any feedback from vodacom legal department ant the email address  of DCA Hammond Pole, so that I can forward him all the mails to vodacom that has not been responded by Vodacom, and as stated two times allready, I dont have my number any more so cant phone the DCA, the messages has also been ignored by Vodacom</td>\n",
       "      <td>[0.0, 0.0, 0.0, 0.0, 0.0, 0.0, 0.0, 0.0, 1.0, 0.0, 0.0, 0.0, 0.0, 0.0, 0.0, 0.0, 0.0, 0.0, 0.0, 0.0]</td>\n",
       "    </tr>\n",
       "    <tr>\n",
       "      <th>2</th>\n",
       "      <td>3950575</td>\n",
       "      <td>**Vodacom is useless!!!**\\n\\nGood day\\n\\nAgain, vodacom did not do their jobs. The amount went off as I explicitly asked for it not to. Vodacom now owes me R300 as it has been debited from my account twice now. I will be taking this to social media now. And I want to please cancel all my contracts with vodacom.</td>\n",
       "      <td>[0.0, 1.0, 1.0, 0.0, 1.0, 0.0, 0.0, 0.0, 0.0, 0.0, 0.0, 0.0, 0.0, 0.0, 0.0, 0.0, 0.0, 0.0, 0.0, 0.0]</td>\n",
       "    </tr>\n",
       "  </tbody>\n",
       "</table>\n",
       "</div>"
      ],
      "text/plain": [
       "        id  \\\n",
       "0  3950516   \n",
       "1  3950535   \n",
       "2  3950575   \n",
       "\n",
       "                                                                                                                                                                                                                                                                                                                                                                                                                                                                                             review_text  \\\n",
       "0  **Vodacom fraudster**\\n\\nVodacom is a scam! Never ever take, a contract  with those people. I had a, contract ending end October. End August I called them and cancelled the contract. I was suprised to find myself at credit bureau while I was looking for a house bond. They didn't cancel my contract. I call them, the system shows I indeed cancel the contract but they don't know why t wasn't cancelled. They are taking me from pillar to post and my life is at a, standstill. Fraudsters   \n",
       "1                                                                                                                                               **bad service**\\n\\nstill awating any feedback from vodacom legal department ant the email address  of DCA Hammond Pole, so that I can forward him all the mails to vodacom that has not been responded by Vodacom, and as stated two times allready, I dont have my number any more so cant phone the DCA, the messages has also been ignored by Vodacom   \n",
       "2                                                                                                                                                                               **Vodacom is useless!!!**\\n\\nGood day\\n\\nAgain, vodacom did not do their jobs. The amount went off as I explicitly asked for it not to. Vodacom now owes me R300 as it has been debited from my account twice now. I will be taking this to social media now. And I want to please cancel all my contracts with vodacom.   \n",
       "\n",
       "                                                                                       category_encoded  \n",
       "0  [0.0, 0.0, 0.0, 0.0, 1.0, 0.0, 1.0, 0.0, 0.0, 0.0, 0.0, 0.0, 0.0, 0.0, 0.0, 0.0, 0.0, 0.0, 0.0, 0.0]  \n",
       "1  [0.0, 0.0, 0.0, 0.0, 0.0, 0.0, 0.0, 0.0, 1.0, 0.0, 0.0, 0.0, 0.0, 0.0, 0.0, 0.0, 0.0, 0.0, 0.0, 0.0]  \n",
       "2  [0.0, 1.0, 1.0, 0.0, 1.0, 0.0, 0.0, 0.0, 0.0, 0.0, 0.0, 0.0, 0.0, 0.0, 0.0, 0.0, 0.0, 0.0, 0.0, 0.0]  "
      ]
     },
     "metadata": {},
     "output_type": "display_data"
    }
   ],
   "source": [
    "# start from the original label dataset\n",
    "df_preprocess = df_intents.copy()\n",
    "\n",
    "# binarize the category_list\n",
    "labels = tf.ragged.constant(df_preprocess[\"category_list\"].values)\n",
    "label_binarized = lookup(labels).numpy()\n",
    "df_preprocess[\"category_encoded\"] = label_binarized.tolist()\n",
    "\n",
    "# add the review content\n",
    "df_preprocess = df_preprocess \\\n",
    "    .set_index('id') \\\n",
    "    .join(df_source.set_index('id'), how='left') \\\n",
    "    .assign(review_text=lambda x: '**' + x.review_title + '**\\n\\n' + x.review_content) \\\n",
    "    .reset_index()\n",
    "\n",
    "# select the relevant columns\n",
    "df_preprocess = df_preprocess[['id', 'review_text', 'category_encoded']]\n",
    "\n",
    "# show a sample of the preprocessed data\n",
    "with pd.option_context('display.max_colwidth', None):\n",
    "    display(df_preprocess.head(3))"
   ]
  },
  {
   "cell_type": "markdown",
   "metadata": {},
   "source": [
    "### 2.3. Train Test Split\n",
    "\n",
    "In a multi-label classification problem, imbalance can occur at two levels:\n",
    "\n",
    "1. **Label imbalance**: Some labels appear more frequently than others.\n",
    "2. **Label combination imbalance**: Some combinations of labels appear more frequently than others.\n",
    "\n",
    "Both these imbalances are present in the dataset. Imbalance can lead to a model that performs well on the majority classes but poorly on the minority classes. This is because the model might be biased towards predicting the majority classes due to their higher occurrence in the training data.\n",
    "\n",
    "To address this, we will ideally use a stratified split to ensure that the distribution of labels in the training and validation sets is similar."
   ]
  },
  {
   "cell_type": "code",
   "execution_count": 10,
   "metadata": {},
   "outputs": [
    {
     "name": "stdout",
     "output_type": "stream",
     "text": [
      "Combination Category Count  : 376\n",
      "Combinations with one sample: 128\n"
     ]
    }
   ],
   "source": [
    "df_category_count = df_intents.category_list.value_counts().reset_index()\n",
    "df_category_count.columns = ['category', 'samples']\n",
    "\n",
    "print(f'Combination Category Count  : {len(df_category_count)}')\n",
    "print(f'Combinations with one sample: {len(df_category_count[df_category_count.samples == 1])}')"
   ]
  },
  {
   "cell_type": "markdown",
   "metadata": {},
   "source": [
    "Unfortunately we can see that about a third (0.34) of the unique category combinations have only one sample. This means that we will not be able to use a stratified split, as the validation set will not contain any of these unique combinations."
   ]
  },
  {
   "cell_type": "code",
   "execution_count": 11,
   "metadata": {},
   "outputs": [
    {
     "name": "stdout",
     "output_type": "stream",
     "text": [
      "Number of rows in training set   :  3214\n",
      "Number of rows in validation set :   803\n",
      "Number of rows in test set       :  1005\n"
     ]
    }
   ],
   "source": [
    "test_split = 0.2\n",
    "\n",
    "# initial train and test split\n",
    "train_full_df, test_df = train_test_split(\n",
    "    df_intents,\n",
    "    test_size=test_split\n",
    ")\n",
    "\n",
    "# splitting the train set further into validation and new train sets\n",
    "val_df = train_full_df.sample(frac=0.2)\n",
    "train_df = train_full_df.drop(val_df.index)\n",
    "\n",
    "# select only the id column\n",
    "train_full_ids = train_full_df.id.values\n",
    "train_ids = train_df.id.values\n",
    "val_ids = val_df.id.values\n",
    "test_ids = test_df.id.values\n",
    "\n",
    "# show the record counts per dataset\n",
    "print(f\"Number of rows in training set   : {len(train_ids):>5}\")\n",
    "print(f\"Number of rows in validation set : {len(val_ids):>5}\")\n",
    "print(f\"Number of rows in test set       : {len(test_ids):>5}\")"
   ]
  },
  {
   "cell_type": "markdown",
   "metadata": {},
   "source": [
    "### 2.4. Make Datasets\n",
    "\n",
    "Use the test-train split to create the final `tf.data.Dataset` objects for modeling."
   ]
  },
  {
   "cell_type": "code",
   "execution_count": 12,
   "metadata": {},
   "outputs": [],
   "source": [
    "def make_dataset(ids:np.ndarray, df:pd.DataFrame, batch_size:int=32, shuffle:bool=False):\n",
    "    \"\"\"Create a tf.data.Dataset from a pandas DataFrame.\"\"\"\n",
    "    # filter the dataframe to only the selected ids\n",
    "    df = df[df.id.isin(ids)]\n",
    "\n",
    "    # get the encoded labels and review text\n",
    "    labels = np.array([np.array(lst) for lst in df.category_encoded.values])\n",
    "    review_text = df.review_text.values\n",
    "\n",
    "    # create the dataset\n",
    "    dataset = tf.data.Dataset.from_tensor_slices((review_text, labels))\n",
    "\n",
    "    # shuffle the dataset if needed\n",
    "    if shuffle:\n",
    "        dataset = dataset.shuffle(batch_size * 10)\n",
    "\n",
    "    # batch the dataset\n",
    "    dataset = dataset.batch(batch_size)\n",
    "\n",
    "    return dataset"
   ]
  },
  {
   "cell_type": "markdown",
   "metadata": {},
   "source": [
    "Prepare the `tf.data.Dataset` objects."
   ]
  },
  {
   "cell_type": "code",
   "execution_count": 13,
   "metadata": {},
   "outputs": [],
   "source": [
    "batch_size = 150\n",
    "\n",
    "train_dataset = make_dataset(train_ids, df_preprocess, batch_size, shuffle=True)\n",
    "val_dataset = make_dataset(val_ids, df_preprocess, batch_size, shuffle=False)\n",
    "test_dataset = make_dataset(test_ids, df_preprocess, batch_size, shuffle=False)"
   ]
  },
  {
   "cell_type": "markdown",
   "metadata": {},
   "source": [
    "Dataset preview"
   ]
  },
  {
   "cell_type": "code",
   "execution_count": 14,
   "metadata": {},
   "outputs": [
    {
     "name": "stdout",
     "output_type": "stream",
     "text": [
      "Review: b'**Terrible service at Vodacom persists !!!**\\n\\nSince April to date Vodacom is failing to resolve my insurance claim.'\n",
      "Label(s): ['Resolution' 'Brand']\n",
      " \n",
      "Review: b'**Prescribed account**\\n\\nHi\\n\\nI have a very old prescribed account that is 13 years old appearing on my name.\\n\\nNo one from Vodacom wants to remove it from my ITC profile.'\n",
      "Label(s): ['Policy' 'Account Management']\n",
      " \n",
      "Review: b\"**\\xf0\\x9f\\x98\\xa1\\xf0\\x9f\\x98\\xa1**\\n\\nDoes vodacom ever reply to queries??? Or we're just wasting our time?\"\n",
      "Label(s): ['Response']\n",
      " \n"
     ]
    }
   ],
   "source": [
    "text_batch, label_batch = next(iter(train_dataset))\n",
    "\n",
    "for i, text in enumerate(text_batch[:3]):\n",
    "    label = label_batch[i].numpy()[None, ...]\n",
    "    print(f\"Review: {text}\")\n",
    "    print(f\"Label(s): {invert_multi_hot(label[0], lookup=lookup)}\")\n",
    "    print(\" \")"
   ]
  },
  {
   "cell_type": "markdown",
   "metadata": {},
   "source": [
    "## 3. Evaluation Metrics\n",
    "\n",
    "Based on the metrics described in the paper titled \"CAVES: A Dataset to facilitate Explainable Classification and Summarization of Concerns towards COVID Vaccines\" (DOI: 10.48550/arXiv.2204.13746), we have selected the following metrics to estimate the performance of models on our multi-label classification dataset:\n",
    "\n",
    "1. **F1-Score (Macro-average and Weighted-average)**: \n",
    "    - **Justification**: The F1-Score is a harmonic mean of precision and recall, making it a balanced measure that considers both false positives and false negatives. The macro-average F1-Score treats all classes equally, emphasizing the importance of performing well across all classes, including the less frequent ones. The weighted-average F1-Score accounts for class imbalance by weighting the F1-Score of each class by its support (the number of true instances for each label). This is crucial in multi-label classification tasks where some labels may be more prevalent than others.\n",
    "    - **Calculation & Meaning**: The macro-average F1-Score is calculated by taking the average of the F1-Scores of all classes, while the weighted-average is computed by weighting each class's F1-Score by the number of true instances for that class. These metrics evaluate the model's overall performance across all labels, with macro-averaging treating every class equally and weighted-averaging considering the class distribution.\n",
    "\n",
    "2. **Jaccard Similarity**:\n",
    "    - **Justification**: The Jaccard Similarity, or Intersection over Union, is particularly well-suited for multi-label classification. It measures the similarity between the set of predicted labels and the set of true labels by dividing the size of the intersection by the size of the union of the predicted and true label sets. This metric is useful for evaluating performance in multi-label settings where the exact match might be too strict.\n",
    "    - **Calculation & Meaning**: The Jaccard Similarity is calculated for each instance and then averaged. A higher Jaccard score indicates a greater degree of overlap between the predicted and true labels, signifying better model performance in capturing the multilabel nature of the data.\n",
    "\n",
    "3. **Subset Accuracy (Exact Match)**:\n",
    "    - **Justification**: Subset accuracy is the strictest metric, requiring the set of predicted labels to exactly match the set of true labels for an instance to be considered correct. This metric is important in scenarios where the goal is to precisely predict the full set of applicable labels.\n",
    "    - **Calculation & Meaning**: Subset accuracy is the proportion of instances for which the predicted label set exactly matches the true label set. It provides a clear indication of the model's ability to perfectly predict label sets, though it may be too stringent for some multi-label applications."
   ]
  },
  {
   "cell_type": "code",
   "execution_count": 76,
   "metadata": {},
   "outputs": [],
   "source": [
    "from sklearn.metrics import f1_score, jaccard_score, accuracy_score\n",
    "\n",
    "class Evaluation:\n",
    "\n",
    "    @staticmethod\n",
    "    def f1_score_macro(y_true, y_pred):\n",
    "        \"\"\"Calculate F1-score (Macro-Average).\"\"\"\n",
    "        return f1_score(y_true, y_pred, average='macro', zero_division=0)\n",
    "\n",
    "    @staticmethod\n",
    "    def f1_score_weighted(y_true, y_pred):\n",
    "        \"\"\"Calculate F1-score (Weighted-Average).\"\"\"\n",
    "        return f1_score(y_true, y_pred, average='weighted', zero_division=0)\n",
    "\n",
    "    @staticmethod\n",
    "    def jaccard_similarity(y_true, y_pred):\n",
    "        \"\"\"Calculate average Jaccard Similarity.\"\"\"\n",
    "        return jaccard_score(y_true, y_pred, average='samples')\n",
    "\n",
    "    @staticmethod\n",
    "    def subset_accuracy(y_true, y_pred):\n",
    "        \"\"\"Calculate Subset Accuracy (Exact Match Accuracy).\"\"\"\n",
    "        return accuracy_score(y_true, y_pred)\n",
    "\n",
    "    @staticmethod\n",
    "    def evaluate_all(y_true, y_pred):\n",
    "        \"\"\"Evaluate all metrics and display a summary.\"\"\"\n",
    "        f1_macro = Evaluation.f1_score_macro(y_true, y_pred)\n",
    "        f1_weighted = Evaluation.f1_score_weighted(y_true, y_pred)\n",
    "        jaccard_similarity = Evaluation.jaccard_similarity(y_true, y_pred)\n",
    "        subset_accuracy = Evaluation.subset_accuracy(y_true, y_pred)\n",
    "\n",
    "        # Display a summary of the evaluation\n",
    "        print(f\"F1 Score (Macro-Average)   \\t{f1_macro:.3f}\")\n",
    "        print(f\"F1 Score (Weighted-Average)\\t{f1_weighted:.3f}\")\n",
    "        print(f\"Average Jaccard Similarity \\t{jaccard_similarity:.3f}\")\n",
    "        print(f\"Subset Accuracy            \\t{subset_accuracy:.3f}\")\n",
    "\n",
    "# Example usage:\n",
    "# Assuming y_true and y_pred are your true and predicted labels respectively\n",
    "# Evaluation.evaluate_all(y_true, y_pred)"
   ]
  },
  {
   "cell_type": "code",
   "execution_count": 60,
   "metadata": {},
   "outputs": [],
   "source": [
    "def evaluate_model(model:keras.Model,\n",
    "                   dataset:tf.data.Dataset,\n",
    "                   threshold:float=0.5):\n",
    "    \"\"\"Evaluate the model using the Evaluation class.\"\"\"\n",
    "    # get the true labels\n",
    "    y_true = np.concatenate([label_batch.numpy() for _, label_batch in dataset], axis=0)\n",
    "\n",
    "    # get the predicted labels\n",
    "    y_pred = model.predict(dataset)\n",
    "    y_pred = y_pred > threshold\n",
    "\n",
    "    # evaluate the model\n",
    "    print()\n",
    "    Evaluation.evaluate_all(y_true, y_pred)"
   ]
  },
  {
   "cell_type": "markdown",
   "metadata": {},
   "source": [
    "## 4. Modeling"
   ]
  },
  {
   "cell_type": "code",
   "execution_count": 16,
   "metadata": {},
   "outputs": [],
   "source": [
    "def plot_result(item):\n",
    "    plt.plot(history.history[item], label=item)\n",
    "    plt.plot(history.history[\"val_\" + item], label=\"val_\" + item)\n",
    "    plt.xlabel(\"Epochs\")\n",
    "    plt.ylabel(item)\n",
    "    plt.title(\"Train and Validation {} Over Epochs\".format(item), fontsize=14)\n",
    "    plt.legend()\n",
    "    plt.grid()\n",
    "    plt.show()"
   ]
  },
  {
   "cell_type": "markdown",
   "metadata": {},
   "source": [
    "### 4.1. Vectorization\n",
    "\n",
    "Before we can train a model, we need to convert the text data into a format that can be fed into the model. There are multiple ways to do this, but a common approach is to convert text data into numerical data using a method such as TF-IDF, word embeddings, or a pre-trained language model.\n",
    "\n",
    "For this purpose we will use the a `TextVectorization` layer that can operate as part of the main model so that the model is excluded from the core preprocessing logic. As noted in the [Keras documentation](https://keras.io/examples/nlp/multi_label_classification/) this also greatly reduces the chances of training / serving skew during inference."
   ]
  },
  {
   "cell_type": "markdown",
   "metadata": {},
   "source": [
    "Calculate the number of unique words in the dataset and the maximum length of a review.  \n",
    "_We expect the maximum review length to be 100 words as we have filtered the reviews to be between 10 and 100 words._"
   ]
  },
  {
   "cell_type": "code",
   "execution_count": 17,
   "metadata": {},
   "outputs": [
    {
     "name": "stdout",
     "output_type": "stream",
     "text": [
      "Vocabulary size: 20646\n",
      "Maximum review length: 100\n"
     ]
    }
   ],
   "source": [
    "# calculate the number of unique words in the dataset\n",
    "vocabulary = set()\n",
    "df_preprocess.review_text.str.lower().str.split().apply(vocabulary.update)\n",
    "vocabulary_size = len(vocabulary)\n",
    "print(f'Vocabulary size: {vocabulary_size}')\n",
    "\n",
    "# get the maximum length of a review\n",
    "max_review_length = int(df_preprocess.review_text.str.split().apply(len).max())\n",
    "print(f'Maximum review length: {max_review_length}')"
   ]
  },
  {
   "cell_type": "markdown",
   "metadata": {},
   "source": [
    "We will initial use a very simple `TextVectorization` layer with `'int'` output mode. In later iterations we can experiment with different vectorization layers,parameters, and output modes like `'tf-idf'` which is a simple, but quite effective technique in NLP text classification tasks."
   ]
  },
  {
   "cell_type": "code",
   "execution_count": 18,
   "metadata": {},
   "outputs": [],
   "source": [
    "def create_vectorizer(\n",
    "        texts:List[str],\n",
    "        max_tokens:int,\n",
    "        output_mode:str='int',\n",
    "        output_sequence_length:Optional[int]=None,\n",
    "        ngrams:Optional[int]=None):\n",
    "    \"\"\"Create and adapt a vectorization layer for the given texts.\"\"\"\n",
    "    # create the layer\n",
    "    text_vectorizer = layers.TextVectorization(\n",
    "        max_tokens=max_tokens,\n",
    "        output_mode=output_mode,\n",
    "        output_sequence_length=output_sequence_length,\n",
    "        ngrams=ngrams\n",
    "    )\n",
    "\n",
    "    # adapt the layer to the texts\n",
    "    text_vectorizer.adapt(texts)\n",
    "\n",
    "    return text_vectorizer"
   ]
  },
  {
   "cell_type": "code",
   "execution_count": 19,
   "metadata": {},
   "outputs": [],
   "source": [
    "# create the vectorizer\n",
    "text_vectorizer_layer = create_vectorizer(\n",
    "    df_preprocess.review_text.values,\n",
    "    max_tokens=vocabulary_size,\n",
    "    output_mode='int',\n",
    "    output_sequence_length=max_review_length\n",
    ")"
   ]
  },
  {
   "cell_type": "code",
   "execution_count": 20,
   "metadata": {},
   "outputs": [
    {
     "data": {
      "text/markdown": [
       "**Vodacom is useless!!!**\n",
       "\n",
       "Good day\n",
       "\n",
       "Again, vodacom did not do their jobs. The amount went off as I explicitly asked for it not to. Vodacom now owes me R300 as it has been debited from my account twice now. I will be taking this to social media now. And I want to please cancel all my contracts with vodacom."
      ],
      "text/plain": [
       "<IPython.core.display.Markdown object>"
      ]
     },
     "metadata": {},
     "output_type": "display_data"
    },
    {
     "name": "stdout",
     "output_type": "stream",
     "text": [
      "Vectorized review: [[   6    9  116  247  126   91    6  108   16   46   49 1854    4  193\n",
      "   169  148   41    2 3769  252   10   22   16    3    6   32 3025   14\n",
      "  1632   41   22   36   28  256   26    8   39  463   32    2   42   34\n",
      "   269   20    3  910  958   32    5    2   87    3   73   68   58    8\n",
      "   177   17    6    0    0    0    0    0    0    0    0    0    0    0\n",
      "     0    0    0    0    0    0    0    0    0    0    0    0    0    0\n",
      "     0    0    0    0    0    0    0    0    0    0    0    0    0    0\n",
      "     0    0]]\n"
     ]
    }
   ],
   "source": [
    "# test the vectorizer\n",
    "sample_review = df_preprocess[df_preprocess.id == 3950575].review_text.values[0]\n",
    "display(Markdown(sample_review))\n",
    "print(f\"Vectorized review: {text_vectorizer_layer([sample_review])}\")"
   ]
  },
  {
   "cell_type": "markdown",
   "metadata": {},
   "source": [
    "### 4.2. Baseline\n",
    "\n",
    "For a multi-label text classification task in Natural Language Processing (NLP), a commonsense baseline could be designed using simple heuristics based on the frequency of specific keywords or phrases associated with each label. Multi-label classification differs from binary or multi-class classification in that each text instance can be associated with multiple labels simultaneously, rather than belonging to just one category.\n",
    "\n",
    "To accomplish this we could start with  simple libraries like the [Natural Laugage Toolkit (NLTK)](https://www.nltk.org/) to tokenize the text and count the frequency of specific words or phrases associated with each label. We could then use these frequencies to predict the labels for new text instances. However for the sake of simplicity we will instead start with a very basic deep learning model."
   ]
  },
  {
   "cell_type": "code",
   "execution_count": 21,
   "metadata": {},
   "outputs": [],
   "source": [
    "def make_baseline_model(\n",
    "        vectorization_layer: layers.TextVectorization,\n",
    "        output_units:int,\n",
    "        dense_units:(List[int]),\n",
    "        dense_activation:Optional[str]='relu') -> keras.Model:\n",
    "    \"\"\"Create a simple feed-forward model that can be used as a baseline.\"\"\"\n",
    "    model = keras.Sequential()\n",
    "\n",
    "    # add the vectorization layer\n",
    "    model.add(vectorization_layer)\n",
    "\n",
    "    # add the dense layers\n",
    "    for units in dense_units:\n",
    "        model.add(layers.Dense(units, activation=dense_activation))\n",
    "\n",
    "    # add the output layer\n",
    "    model.add(layers.Dense(output_units, activation='sigmoid'))\n",
    "\n",
    "    return model"
   ]
  },
  {
   "cell_type": "markdown",
   "metadata": {},
   "source": [
    "#### Create a text classification model"
   ]
  },
  {
   "cell_type": "code",
   "execution_count": 22,
   "metadata": {},
   "outputs": [
    {
     "name": "stdout",
     "output_type": "stream",
     "text": [
      "Model: \"sequential\"\n",
      "_________________________________________________________________\n",
      " Layer (type)                Output Shape              Param #   \n",
      "=================================================================\n",
      " text_vectorization (TextVe  (None, 100)               0         \n",
      " ctorization)                                                    \n",
      "                                                                 \n",
      " dense (Dense)               (None, 512)               51712     \n",
      "                                                                 \n",
      " dense_1 (Dense)             (None, 20)                10260     \n",
      "                                                                 \n",
      "=================================================================\n",
      "Total params: 61972 (242.08 KB)\n",
      "Trainable params: 61972 (242.08 KB)\n",
      "Non-trainable params: 0 (0.00 Byte)\n",
      "_________________________________________________________________\n"
     ]
    }
   ],
   "source": [
    "# get the baseline model\n",
    "baseline_model = make_baseline_model(\n",
    "    text_vectorizer_layer,\n",
    "    output_units=len(lookup.get_vocabulary()),\n",
    "    dense_units=[512],\n",
    "    dense_activation='relu'\n",
    ")\n",
    "\n",
    "baseline_model.summary()"
   ]
  },
  {
   "cell_type": "markdown",
   "metadata": {},
   "source": [
    "#### Train the model"
   ]
  },
  {
   "cell_type": "code",
   "execution_count": 23,
   "metadata": {},
   "outputs": [],
   "source": [
    "epochs = 50"
   ]
  },
  {
   "cell_type": "code",
   "execution_count": 24,
   "metadata": {},
   "outputs": [],
   "source": [
    "# compile the model\n",
    "baseline_model.compile(\n",
    "    loss='binary_crossentropy',\n",
    "    optimizer='adam',\n",
    "    metrics=['binary_accuracy'])"
   ]
  },
  {
   "cell_type": "code",
   "execution_count": 25,
   "metadata": {},
   "outputs": [
    {
     "name": "stdout",
     "output_type": "stream",
     "text": [
      "Epoch 1/50\n"
     ]
    },
    {
     "name": "stderr",
     "output_type": "stream",
     "text": [
      "2024-03-18 11:56:17.052797: I external/local_xla/xla/service/service.cc:168] XLA service 0x7d91e039b920 initialized for platform CUDA (this does not guarantee that XLA will be used). Devices:\n",
      "2024-03-18 11:56:17.052817: I external/local_xla/xla/service/service.cc:176]   StreamExecutor device (0): NVIDIA GeForce RTX 3080 Ti, Compute Capability 8.6\n",
      "2024-03-18 11:56:17.057401: I tensorflow/compiler/mlir/tensorflow/utils/dump_mlir_util.cc:269] disabling MLIR crash reproducer, set env var `MLIR_CRASH_REPRODUCER_DIRECTORY` to enable.\n",
      "2024-03-18 11:56:17.070685: I external/local_xla/xla/stream_executor/cuda/cuda_dnn.cc:454] Loaded cuDNN version 8904\n",
      "WARNING: All log messages before absl::InitializeLog() is called are written to STDERR\n",
      "I0000 00:00:1710755777.129753  432922 device_compiler.h:186] Compiled cluster using XLA!  This line is logged at most once for the lifetime of the process.\n"
     ]
    },
    {
     "name": "stdout",
     "output_type": "stream",
     "text": [
      "22/22 [==============================] - 1s 7ms/step - loss: 75.5981 - binary_accuracy: 0.8258 - val_loss: 45.9924 - val_binary_accuracy: 0.8570\n",
      "Epoch 2/50\n",
      "22/22 [==============================] - 0s 3ms/step - loss: 34.5938 - binary_accuracy: 0.8507 - val_loss: 35.7256 - val_binary_accuracy: 0.8390\n",
      "Epoch 3/50\n",
      "22/22 [==============================] - 0s 3ms/step - loss: 23.9092 - binary_accuracy: 0.8548 - val_loss: 31.3269 - val_binary_accuracy: 0.8376\n",
      "Epoch 4/50\n",
      "22/22 [==============================] - 0s 3ms/step - loss: 17.9387 - binary_accuracy: 0.8621 - val_loss: 29.3180 - val_binary_accuracy: 0.8452\n",
      "Epoch 5/50\n",
      "22/22 [==============================] - 0s 3ms/step - loss: 14.0802 - binary_accuracy: 0.8688 - val_loss: 28.2245 - val_binary_accuracy: 0.8337\n",
      "Epoch 6/50\n",
      "22/22 [==============================] - 0s 3ms/step - loss: 11.2719 - binary_accuracy: 0.8765 - val_loss: 27.5532 - val_binary_accuracy: 0.8306\n",
      "Epoch 7/50\n",
      "22/22 [==============================] - 0s 4ms/step - loss: 9.2867 - binary_accuracy: 0.8830 - val_loss: 27.2798 - val_binary_accuracy: 0.8222\n",
      "Epoch 8/50\n",
      "22/22 [==============================] - 0s 3ms/step - loss: 7.8960 - binary_accuracy: 0.8893 - val_loss: 26.7107 - val_binary_accuracy: 0.8233\n",
      "Epoch 9/50\n",
      "22/22 [==============================] - 0s 3ms/step - loss: 6.5130 - binary_accuracy: 0.8968 - val_loss: 25.7472 - val_binary_accuracy: 0.8311\n",
      "Epoch 10/50\n",
      "22/22 [==============================] - 0s 3ms/step - loss: 5.6073 - binary_accuracy: 0.9012 - val_loss: 25.3147 - val_binary_accuracy: 0.8315\n",
      "Epoch 11/50\n",
      "22/22 [==============================] - 0s 3ms/step - loss: 4.8788 - binary_accuracy: 0.9081 - val_loss: 25.6462 - val_binary_accuracy: 0.8172\n",
      "Epoch 12/50\n",
      "22/22 [==============================] - 0s 3ms/step - loss: 4.1189 - binary_accuracy: 0.9121 - val_loss: 25.1070 - val_binary_accuracy: 0.8227\n",
      "Epoch 13/50\n",
      "22/22 [==============================] - 0s 3ms/step - loss: 3.5538 - binary_accuracy: 0.9181 - val_loss: 25.0210 - val_binary_accuracy: 0.8234\n",
      "Epoch 14/50\n",
      "22/22 [==============================] - 0s 3ms/step - loss: 3.2274 - binary_accuracy: 0.9199 - val_loss: 24.4718 - val_binary_accuracy: 0.8270\n",
      "Epoch 15/50\n",
      "22/22 [==============================] - 0s 3ms/step - loss: 2.9294 - binary_accuracy: 0.9238 - val_loss: 24.5414 - val_binary_accuracy: 0.8237\n",
      "Epoch 16/50\n",
      "22/22 [==============================] - 0s 3ms/step - loss: 2.4896 - binary_accuracy: 0.9303 - val_loss: 24.1391 - val_binary_accuracy: 0.8208\n",
      "Epoch 17/50\n",
      "22/22 [==============================] - 0s 3ms/step - loss: 2.1158 - binary_accuracy: 0.9342 - val_loss: 23.9819 - val_binary_accuracy: 0.8231\n",
      "Epoch 18/50\n",
      "22/22 [==============================] - 0s 3ms/step - loss: 1.9259 - binary_accuracy: 0.9375 - val_loss: 23.7522 - val_binary_accuracy: 0.8284\n",
      "Epoch 19/50\n",
      "22/22 [==============================] - 0s 3ms/step - loss: 1.7714 - binary_accuracy: 0.9392 - val_loss: 23.7094 - val_binary_accuracy: 0.8290\n",
      "Epoch 20/50\n",
      "22/22 [==============================] - 0s 3ms/step - loss: 1.6339 - binary_accuracy: 0.9409 - val_loss: 23.9469 - val_binary_accuracy: 0.8234\n",
      "Epoch 21/50\n",
      "22/22 [==============================] - 0s 3ms/step - loss: 1.4179 - binary_accuracy: 0.9455 - val_loss: 23.5289 - val_binary_accuracy: 0.8217\n",
      "Epoch 22/50\n",
      "22/22 [==============================] - 0s 3ms/step - loss: 1.3464 - binary_accuracy: 0.9452 - val_loss: 23.7934 - val_binary_accuracy: 0.8246\n",
      "Epoch 23/50\n",
      "22/22 [==============================] - 0s 3ms/step - loss: 1.2652 - binary_accuracy: 0.9469 - val_loss: 23.7694 - val_binary_accuracy: 0.8233\n",
      "Epoch 24/50\n",
      "22/22 [==============================] - 0s 3ms/step - loss: 1.0757 - binary_accuracy: 0.9516 - val_loss: 23.8558 - val_binary_accuracy: 0.8238\n",
      "Epoch 25/50\n",
      "22/22 [==============================] - 0s 3ms/step - loss: 1.0173 - binary_accuracy: 0.9529 - val_loss: 23.4220 - val_binary_accuracy: 0.8250\n",
      "Epoch 26/50\n",
      "22/22 [==============================] - 0s 3ms/step - loss: 0.9663 - binary_accuracy: 0.9539 - val_loss: 23.7682 - val_binary_accuracy: 0.8216\n",
      "Epoch 27/50\n",
      "22/22 [==============================] - 0s 3ms/step - loss: 0.9095 - binary_accuracy: 0.9551 - val_loss: 23.4348 - val_binary_accuracy: 0.8312\n",
      "Epoch 28/50\n",
      "22/22 [==============================] - 0s 3ms/step - loss: 0.8141 - binary_accuracy: 0.9579 - val_loss: 23.5204 - val_binary_accuracy: 0.8248\n",
      "Epoch 29/50\n",
      "22/22 [==============================] - 0s 3ms/step - loss: 0.7242 - binary_accuracy: 0.9614 - val_loss: 23.6642 - val_binary_accuracy: 0.8231\n",
      "Epoch 30/50\n",
      "22/22 [==============================] - 0s 3ms/step - loss: 0.6509 - binary_accuracy: 0.9636 - val_loss: 23.5520 - val_binary_accuracy: 0.8243\n",
      "Epoch 31/50\n",
      "22/22 [==============================] - 0s 3ms/step - loss: 0.6602 - binary_accuracy: 0.9629 - val_loss: 23.5353 - val_binary_accuracy: 0.8249\n",
      "Epoch 32/50\n",
      "22/22 [==============================] - 0s 3ms/step - loss: 0.6271 - binary_accuracy: 0.9621 - val_loss: 23.6104 - val_binary_accuracy: 0.8272\n",
      "Epoch 33/50\n",
      "22/22 [==============================] - 0s 3ms/step - loss: 0.6340 - binary_accuracy: 0.9629 - val_loss: 23.6126 - val_binary_accuracy: 0.8217\n",
      "Epoch 34/50\n",
      "22/22 [==============================] - 0s 3ms/step - loss: 0.5954 - binary_accuracy: 0.9641 - val_loss: 23.7198 - val_binary_accuracy: 0.8215\n",
      "Epoch 35/50\n",
      "22/22 [==============================] - 0s 3ms/step - loss: 0.5478 - binary_accuracy: 0.9664 - val_loss: 23.4264 - val_binary_accuracy: 0.8296\n",
      "Epoch 36/50\n",
      "22/22 [==============================] - 0s 3ms/step - loss: 0.5728 - binary_accuracy: 0.9657 - val_loss: 23.4872 - val_binary_accuracy: 0.8229\n",
      "Epoch 37/50\n",
      "22/22 [==============================] - 0s 3ms/step - loss: 0.5310 - binary_accuracy: 0.9676 - val_loss: 23.8009 - val_binary_accuracy: 0.8204\n",
      "Epoch 38/50\n",
      "22/22 [==============================] - 0s 3ms/step - loss: 0.5737 - binary_accuracy: 0.9660 - val_loss: 23.4444 - val_binary_accuracy: 0.8301\n",
      "Epoch 39/50\n",
      "22/22 [==============================] - 0s 3ms/step - loss: 0.5342 - binary_accuracy: 0.9679 - val_loss: 23.5985 - val_binary_accuracy: 0.8275\n",
      "Epoch 40/50\n",
      "22/22 [==============================] - 0s 3ms/step - loss: 0.4601 - binary_accuracy: 0.9697 - val_loss: 23.2918 - val_binary_accuracy: 0.8305\n",
      "Epoch 41/50\n",
      "22/22 [==============================] - 0s 3ms/step - loss: 0.4188 - binary_accuracy: 0.9727 - val_loss: 23.5374 - val_binary_accuracy: 0.8238\n",
      "Epoch 42/50\n",
      "22/22 [==============================] - 0s 3ms/step - loss: 0.3821 - binary_accuracy: 0.9735 - val_loss: 23.6006 - val_binary_accuracy: 0.8255\n",
      "Epoch 43/50\n",
      "22/22 [==============================] - 0s 3ms/step - loss: 0.3902 - binary_accuracy: 0.9725 - val_loss: 23.4910 - val_binary_accuracy: 0.8281\n",
      "Epoch 44/50\n",
      "22/22 [==============================] - 0s 3ms/step - loss: 0.4461 - binary_accuracy: 0.9716 - val_loss: 23.4508 - val_binary_accuracy: 0.8263\n",
      "Epoch 45/50\n",
      "22/22 [==============================] - 0s 3ms/step - loss: 0.4193 - binary_accuracy: 0.9721 - val_loss: 23.4817 - val_binary_accuracy: 0.8269\n",
      "Epoch 46/50\n",
      "22/22 [==============================] - 0s 3ms/step - loss: 0.3841 - binary_accuracy: 0.9732 - val_loss: 23.5483 - val_binary_accuracy: 0.8258\n",
      "Epoch 47/50\n",
      "22/22 [==============================] - 0s 3ms/step - loss: 0.3618 - binary_accuracy: 0.9744 - val_loss: 23.6872 - val_binary_accuracy: 0.8255\n",
      "Epoch 48/50\n",
      "22/22 [==============================] - 0s 3ms/step - loss: 0.3716 - binary_accuracy: 0.9737 - val_loss: 23.6914 - val_binary_accuracy: 0.8295\n",
      "Epoch 49/50\n",
      "22/22 [==============================] - 0s 3ms/step - loss: 0.3742 - binary_accuracy: 0.9738 - val_loss: 23.6036 - val_binary_accuracy: 0.8243\n",
      "Epoch 50/50\n",
      "22/22 [==============================] - 0s 3ms/step - loss: 0.3298 - binary_accuracy: 0.9761 - val_loss: 23.8502 - val_binary_accuracy: 0.8276\n"
     ]
    }
   ],
   "source": [
    "# train the model\n",
    "history = baseline_model.fit(\n",
    "    train_dataset, validation_data=val_dataset, epochs=epochs\n",
    ")"
   ]
  },
  {
   "cell_type": "code",
   "execution_count": 26,
   "metadata": {},
   "outputs": [
    {
     "data": {
      "image/png": "[encoded data removed]",
      "text/plain": [
       "<Figure size 640x480 with 1 Axes>"
      ]
     },
     "metadata": {},
     "output_type": "display_data"
    },
    {
     "data": {
      "image/png": "[encoded data removed]",
      "text/plain": [
       "<Figure size 640x480 with 1 Axes>"
      ]
     },
     "metadata": {},
     "output_type": "display_data"
    }
   ],
   "source": [
    "plot_result(\"loss\")\n",
    "plot_result(\"binary_accuracy\")"
   ]
  },
  {
   "cell_type": "markdown",
   "metadata": {},
   "source": [
    "#### Evaluate the model\n",
    "\n",
    "From the evaluation results below we can see that wile the baseline model appears to perform well when considering the **Categorical accuracy** it performs poorly when considering the **F1-Score** and **Jaccard Similarity**.\n",
    "\n",
    "First we need to understand the **Binary Accuracy** metric as reported by Keras. This metric treats each label as a separate binary classification problem. It calculates the percentage of correctly predicted labels (both positive and negative) across all labels and instances. High binary accuracy indicates that, on average, the model is good at deciding whether a specific label should be applied or not, but it doesn't consider the exact set of labels for each instance.\n",
    "\n",
    "##### Diagnosing the Issue\n",
    "\n",
    "1. **Class Imbalance**: If some labels are much more frequent than others, the model might learn to predict these labels more accurately, contributing to high binary accuracy. However, rare labels might be poorly predicted, which affects F1 scores and Jaccard similarity negatively.\n",
    "\n",
    "2. **Label Correlations**: In real-world data, labels can be correlated (e.g., \"Network Coverage\" and \"Service\" might often appear together). If the model fails to capture these correlations, it might still achieve good binary accuracy by getting many labels right based on their individual occurrences but fail at accurately capturing the relationships between labels, which is crucial for high F1 scores and Jaccard similarity.\n",
    "\n",
    "3. **Thresholding**: The way you convert model outputs (probabilities) into label predictions (binary) can significantly impact performance. The default threshold is 0.5, but adjusting this threshold might improve F1 scores and Jaccard similarity.\n",
    "\n",
    "##### Improving The Model\n",
    "\n",
    "The following are potential strategies for improving the model:\n",
    "\n",
    "1. **Model Architecture**: Experiment with different model architectures, layers, and hyperparameters. Attention mechanisms or more sophisticated RNNs and CNNs might capture label correlations better.\n",
    "\n",
    "2. **Class Weights**: Adjust class weights to handle imbalanced data better, making the model pay more attention to rare labels.\n",
    "\n",
    "3. **Evaluation Metric Optimization**: Instead of optimizing for binary accuracy during training, consider optimizing directly for metrics more aligned with your actual goals, like F1 score or Jaccard index, if possible.\n",
    "\n",
    "4. **Threshold Tuning**: Experiment with different thresholds for converting probabilities to binary labels, or consider using ranking-based metrics if thresholding proves problematic.\n",
    "\n",
    "\n",
    "> ❗️As discussed in a previous section, the dataset is imbalanced at both the label and label combination levels. This imbalance is likely contributing to the discrepancy between the binary accuracy and the F1 scores and Jaccard similarity."
   ]
  },
  {
   "cell_type": "code",
   "execution_count": 27,
   "metadata": {},
   "outputs": [
    {
     "name": "stdout",
     "output_type": "stream",
     "text": [
      "7/7 [==============================] - 0s 2ms/step - loss: 22.4113 - binary_accuracy: 0.8285\n",
      "Categorical accuracy on the test set: 82.85%.\n"
     ]
    }
   ],
   "source": [
    "_, binary_acc = baseline_model.evaluate(test_dataset)\n",
    "print(f\"Categorical accuracy on the test set: {round(binary_acc * 100, 2)}%.\")"
   ]
  },
  {
   "cell_type": "markdown",
   "metadata": {},
   "source": [
    "Calculate the relevant evaluation metrics using the `Evaluation` class for a more detailed analysis."
   ]
  },
  {
   "cell_type": "markdown",
   "metadata": {},
   "source": [
    "**Train Evaluation**"
   ]
  },
  {
   "cell_type": "code",
   "execution_count": 104,
   "metadata": {},
   "outputs": [
    {
     "name": "stdout",
     "output_type": "stream",
     "text": [
      "22/22 [==============================] - 0s 2ms/step\n",
      "\n",
      "F1 Score (Macro-Average)   \t0.099\n",
      "F1 Score (Weighted-Average)\t0.217\n",
      "Average Jaccard Similarity \t0.147\n",
      "Subset Accuracy            \t0.017\n"
     ]
    }
   ],
   "source": [
    "evaluate_model(baseline_model, train_dataset)"
   ]
  },
  {
   "cell_type": "markdown",
   "metadata": {},
   "source": [
    "**Validation Evaluation**"
   ]
  },
  {
   "cell_type": "code",
   "execution_count": 105,
   "metadata": {},
   "outputs": [
    {
     "name": "stdout",
     "output_type": "stream",
     "text": [
      "6/6 [==============================] - 0s 2ms/step\n",
      "\n",
      "F1 Score (Macro-Average)   \t0.114\n",
      "F1 Score (Weighted-Average)\t0.241\n",
      "Average Jaccard Similarity \t0.148\n",
      "Subset Accuracy            \t0.010\n"
     ]
    }
   ],
   "source": [
    "evaluate_model(baseline_model, val_dataset)"
   ]
  },
  {
   "cell_type": "markdown",
   "metadata": {},
   "source": [
    "**Test Evaluation**"
   ]
  },
  {
   "cell_type": "code",
   "execution_count": 106,
   "metadata": {},
   "outputs": [
    {
     "name": "stdout",
     "output_type": "stream",
     "text": [
      "7/7 [==============================] - 0s 2ms/step\n",
      "\n",
      "F1 Score (Macro-Average)   \t0.117\n",
      "F1 Score (Weighted-Average)\t0.240\n",
      "Average Jaccard Similarity \t0.148\n",
      "Subset Accuracy            \t0.009\n"
     ]
    }
   ],
   "source": [
    "evaluate_model(baseline_model, test_dataset)"
   ]
  }
 ],
 "metadata": {
  "kernelspec": {
   "display_name": "multi-intent",
   "language": "python",
   "name": "python3"
  },
  "language_info": {
   "codemirror_mode": {
    "name": "ipython",
    "version": 3
   },
   "file_extension": ".py",
   "mimetype": "text/x-python",
   "name": "python",
   "nbconvert_exporter": "python",
   "pygments_lexer": "ipython3",
   "version": "3.10.13"
  }
 },
 "nbformat": 4,
 "nbformat_minor": 2
}
