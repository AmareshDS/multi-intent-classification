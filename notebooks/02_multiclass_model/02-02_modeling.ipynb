{
 "cells": [
  {
   "cell_type": "markdown",
   "metadata": {},
   "source": [
    "# 02-02 : Multi-label text classification\n",
    "\n",
    "After extracting intents, we use Keras, a comprehensive deep learning library, to develop a multi-class classification model.\n",
    "\n",
    "## References\n",
    "\n",
    "- [Large-scale multi-label text classification](https://keras.io/examples/nlp/multi_label_classification/)"
   ]
  },
  {
   "cell_type": "code",
   "execution_count": 4,
   "metadata": {},
   "outputs": [],
   "source": [
    "import pandas as pd\n",
    "from IPython.display import display"
   ]
  },
  {
   "cell_type": "markdown",
   "metadata": {},
   "source": [
    "## Data Description"
   ]
  },
  {
   "cell_type": "code",
   "execution_count": 1,
   "metadata": {},
   "outputs": [],
   "source": [
    "data_path = '../../data'\n",
    "\n",
    "orig_data_path = f'{data_path}/hellopeter'\n",
    "orig_file = f'{orig_data_path}/00-01_vodacom_selected_reviews.parquet.gz'\n",
    "\n",
    "intent_path = f'{data_path}/multiclass_model'\n",
    "intent_extract_file = f'{intent_path}/02-01_intents.parquet.gz'\n",
    "intent_file = f'{intent_path}/02-01_flat_intents.parquet.gz'"
   ]
  },
  {
   "cell_type": "markdown",
   "metadata": {},
   "source": [
    "### Data Lineage\n",
    "\n",
    "1. The original dataset is a collection publicly accessible customer reviews/complaints scraped from [Hellopeter](https://www.hellopeter.com/) site between 2021 and 2023. This dataset was [created](https://github.com/JohnnyFoulds/dsm050-2023-apr/blob/master/notebooks/01_hellopeter/01-01_retrieve_data.ipynb) in another research project investigating: [Evaluating Customer Satisfaction and Preferences in the Telecommunications Industry: A Comparative Analysis of Survey Data and Online Reviews](https://github.com/JohnnyFoulds/dsm050-2023-apr/blob/master/notebooks/04_draft/04-04_cw02.ipynb)\n",
    "\n",
    "2. Data selection was perform in the `00-01_data_selection` notebook based on the following criteria.\n",
    "    - Reviews from the for the 5 month period from **2022-06-01** to **2023-06-30** were selected.\n",
    "\n",
    "    - Only reviews from the **Vodacom** telecommunications company were selected.\n",
    "\n",
    "    - Very short, or very long reviews were removed. Reviews between from **10** to **100** words were selected. The word count was calculated using a basic `.str.split().str.len()` which is sufficient for this purpose.\n",
    "\n",
    "3. The unlabeled data was then labeled in the `01-02_batch_classification` notebook using Generative AI.\n",
    "    - The **Mistral 7B v0.2** Large Language Model (LLM) were hosted on the local servier with [Ollama](https://ollama.com/library/mistral). Please refer to the `01-01_classification_test` notebook for further details.\n",
    "\n",
    "    - The classification was done using multiple prompts similar to Chain-of-Thought (CoT) techniques for classification. _Implementation details can be found in the `src` directory._\n",
    "\n",
    "    - Classification was done based on the categories defined in `src/config/category_definitions.jsonl`.\n",
    "\n",
    "    - It took an average of **7 seconds** to classify a single review.\n",
    "\n",
    "4. The data labels was then converted into a format suitable for modeling in the `02-01_data_preperation` notebook."
   ]
  },
  {
   "cell_type": "markdown",
   "metadata": {},
   "source": [
    "### Data Structure"
   ]
  },
  {
   "cell_type": "markdown",
   "metadata": {},
   "source": [
    "#### Source Data\n",
    "\n",
    "The following shows a sample customer review from the original source data."
   ]
  },
  {
   "cell_type": "code",
   "execution_count": 7,
   "metadata": {},
   "outputs": [
    {
     "data": {
      "text/html": [
       "<div>\n",
       "<style scoped>\n",
       "    .dataframe tbody tr th:only-of-type {\n",
       "        vertical-align: middle;\n",
       "    }\n",
       "\n",
       "    .dataframe tbody tr th {\n",
       "        vertical-align: top;\n",
       "    }\n",
       "\n",
       "    .dataframe thead th {\n",
       "        text-align: right;\n",
       "    }\n",
       "</style>\n",
       "<table border=\"1\" class=\"dataframe\">\n",
       "  <thead>\n",
       "    <tr style=\"text-align: right;\">\n",
       "      <th></th>\n",
       "      <th>id</th>\n",
       "      <th>review_title</th>\n",
       "      <th>review_content</th>\n",
       "    </tr>\n",
       "  </thead>\n",
       "  <tbody>\n",
       "    <tr>\n",
       "      <th>5215</th>\n",
       "      <td>3950575</td>\n",
       "      <td>Vodacom is useless!!!</td>\n",
       "      <td>Good day\\n\\nAgain, vodacom did not do their jobs. The amount went off as I explicitly asked for it not to. Vodacom now owes me R300 as it has been debited from my account twice now. I will be taking this to social media now. And I want to please cancel all my contracts with vodacom.</td>\n",
       "    </tr>\n",
       "  </tbody>\n",
       "</table>\n",
       "</div>"
      ],
      "text/plain": [
       "           id           review_title  \\\n",
       "5215  3950575  Vodacom is useless!!!   \n",
       "\n",
       "                                                                                                                                                                                                                                                                                   review_content  \n",
       "5215  Good day\\n\\nAgain, vodacom did not do their jobs. The amount went off as I explicitly asked for it not to. Vodacom now owes me R300 as it has been debited from my account twice now. I will be taking this to social media now. And I want to please cancel all my contracts with vodacom.  "
      ]
     },
     "metadata": {},
     "output_type": "display_data"
    }
   ],
   "source": [
    "df_source = pd.read_parquet(orig_file)\n",
    "with pd.option_context('display.max_colwidth', None):\n",
    "    display(\n",
    "        df_source[df_source.id == 3950575]\n",
    "    )"
   ]
  },
  {
   "cell_type": "markdown",
   "metadata": {},
   "source": [
    "### Data Labels\n",
    "\n",
    "A sample of the labels extracted using the LLM is shown below. From this we can see that the LLM has extracted multiple labels for each review, and a reason is generated form each label for human verification."
   ]
  },
  {
   "cell_type": "code",
   "execution_count": 8,
   "metadata": {},
   "outputs": [
    {
     "data": {
      "text/html": [
       "<div>\n",
       "<style scoped>\n",
       "    .dataframe tbody tr th:only-of-type {\n",
       "        vertical-align: middle;\n",
       "    }\n",
       "\n",
       "    .dataframe tbody tr th {\n",
       "        vertical-align: top;\n",
       "    }\n",
       "\n",
       "    .dataframe thead th {\n",
       "        text-align: right;\n",
       "    }\n",
       "</style>\n",
       "<table border=\"1\" class=\"dataframe\">\n",
       "  <thead>\n",
       "    <tr style=\"text-align: right;\">\n",
       "      <th></th>\n",
       "      <th>category</th>\n",
       "      <th>reason</th>\n",
       "      <th>relevance</th>\n",
       "      <th>sentiment</th>\n",
       "      <th>id</th>\n",
       "    </tr>\n",
       "  </thead>\n",
       "  <tbody>\n",
       "    <tr>\n",
       "      <th>29</th>\n",
       "      <td>Billing</td>\n",
       "      <td>The text mentions that an amount was debited from the account twice.</td>\n",
       "      <td>1.0</td>\n",
       "      <td>negative</td>\n",
       "      <td>3950575</td>\n",
       "    </tr>\n",
       "    <tr>\n",
       "      <th>30</th>\n",
       "      <td>Cancellation</td>\n",
       "      <td>The text expresses the intent to cancel all contracts with Vodacom due to the billing issue.</td>\n",
       "      <td>1.0</td>\n",
       "      <td>negative</td>\n",
       "      <td>3950575</td>\n",
       "    </tr>\n",
       "    <tr>\n",
       "      <th>31</th>\n",
       "      <td>Customer's Feeling</td>\n",
       "      <td>The text contains a negative sentiment towards Vodacom.</td>\n",
       "      <td>0.5</td>\n",
       "      <td>negative</td>\n",
       "      <td>3950575</td>\n",
       "    </tr>\n",
       "  </tbody>\n",
       "</table>\n",
       "</div>"
      ],
      "text/plain": [
       "              category  \\\n",
       "29             Billing   \n",
       "30        Cancellation   \n",
       "31  Customer's Feeling   \n",
       "\n",
       "                                                                                          reason  \\\n",
       "29                          The text mentions that an amount was debited from the account twice.   \n",
       "30  The text expresses the intent to cancel all contracts with Vodacom due to the billing issue.   \n",
       "31                                       The text contains a negative sentiment towards Vodacom.   \n",
       "\n",
       "    relevance sentiment       id  \n",
       "29        1.0  negative  3950575  \n",
       "30        1.0  negative  3950575  \n",
       "31        0.5  negative  3950575  "
      ]
     },
     "metadata": {},
     "output_type": "display_data"
    }
   ],
   "source": [
    "df_intents_extracted = pd.read_parquet(intent_extract_file)\n",
    "with pd.option_context('display.max_colwidth', None):\n",
    "    display(\n",
    "        df_intents_extracted[df_intents_extracted.id == 3950575]\n",
    "    )"
   ]
  },
  {
   "cell_type": "markdown",
   "metadata": {},
   "source": [
    "### Prepared Data Labels\n",
    "\n",
    "The prepared data labels are shown below. The data labels are prepared for multi-label classification.\n",
    "\n",
    "This data will need to be combined with the `review_title` and `review_content` from the original source data to create the final dataset for modeling."
   ]
  },
  {
   "cell_type": "code",
   "execution_count": 9,
   "metadata": {},
   "outputs": [
    {
     "data": {
      "text/html": [
       "<div>\n",
       "<style scoped>\n",
       "    .dataframe tbody tr th:only-of-type {\n",
       "        vertical-align: middle;\n",
       "    }\n",
       "\n",
       "    .dataframe tbody tr th {\n",
       "        vertical-align: top;\n",
       "    }\n",
       "\n",
       "    .dataframe thead th {\n",
       "        text-align: right;\n",
       "    }\n",
       "</style>\n",
       "<table border=\"1\" class=\"dataframe\">\n",
       "  <thead>\n",
       "    <tr style=\"text-align: right;\">\n",
       "      <th></th>\n",
       "      <th>id</th>\n",
       "      <th>category_list</th>\n",
       "      <th>relevance_list</th>\n",
       "      <th>sentiment_list</th>\n",
       "    </tr>\n",
       "  </thead>\n",
       "  <tbody>\n",
       "    <tr>\n",
       "      <th>2</th>\n",
       "      <td>3950575</td>\n",
       "      <td>[Billing, Cancellation, Customer's Feeling]</td>\n",
       "      <td>[1.0, 1.0, 0.5]</td>\n",
       "      <td>[negative, negative, negative]</td>\n",
       "    </tr>\n",
       "  </tbody>\n",
       "</table>\n",
       "</div>"
      ],
      "text/plain": [
       "        id                                category_list   relevance_list  \\\n",
       "2  3950575  [Billing, Cancellation, Customer's Feeling]  [1.0, 1.0, 0.5]   \n",
       "\n",
       "                   sentiment_list  \n",
       "2  [negative, negative, negative]  "
      ]
     },
     "metadata": {},
     "output_type": "display_data"
    }
   ],
   "source": [
    "df_intents = pd.read_parquet(intent_file)\n",
    "with pd.option_context('display.max_colwidth', None):\n",
    "    display(\n",
    "        df_intents[df_intents.id == 3950575]\n",
    "    )"
   ]
  }
 ],
 "metadata": {
  "kernelspec": {
   "display_name": "multi-intent",
   "language": "python",
   "name": "python3"
  },
  "language_info": {
   "codemirror_mode": {
    "name": "ipython",
    "version": 3
   },
   "file_extension": ".py",
   "mimetype": "text/x-python",
   "name": "python",
   "nbconvert_exporter": "python",
   "pygments_lexer": "ipython3",
   "version": "3.10.13"
  }
 },
 "nbformat": 4,
 "nbformat_minor": 2
}
