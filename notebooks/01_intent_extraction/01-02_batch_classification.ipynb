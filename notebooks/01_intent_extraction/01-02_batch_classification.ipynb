{
 "cells": [
  {
   "cell_type": "markdown",
   "metadata": {},
   "source": [
    "# 01-02 : Batch Classification\n",
    "\n",
    "In this notebook we uses a LLM (as shown in `01-01_classification_test.ipynb`) to perform batch classifications on the customer review dataset selected in `00-01_data_preparation.ipynb`."
   ]
  },
  {
   "cell_type": "code",
   "execution_count": 1,
   "metadata": {},
   "outputs": [],
   "source": [
    "%load_ext autoreload\n",
    "%autoreload 2"
   ]
  },
  {
   "cell_type": "code",
   "execution_count": 2,
   "metadata": {},
   "outputs": [],
   "source": [
    "import os\n",
    "import sys\n",
    "\n",
    "sys.path.append(os.path.abspath(\"../../src\"))"
   ]
  },
  {
   "cell_type": "code",
   "execution_count": 3,
   "metadata": {},
   "outputs": [],
   "source": [
    "import pandas as pd\n",
    "from pprint import pprint\n",
    "from IPython.display import display, Markdown\n",
    "from tqdm.notebook import tqdm\n",
    "\n",
    "from langchain_core.language_models.llms import BaseLLM\n",
    "from langchain_community.llms import Ollama\n",
    "import service.classification as classification"
   ]
  },
  {
   "cell_type": "code",
   "execution_count": 4,
   "metadata": {},
   "outputs": [],
   "source": [
    "data_path = '../../data'\n",
    "input_path = f'{data_path}/hellopeter'\n",
    "output_path = f'{data_path}/intent_extraction'\n",
    "\n",
    "input_file = f'{input_path}/00-01_vodacom_selected_reviews.parquet.gz'"
   ]
  },
  {
   "cell_type": "markdown",
   "metadata": {},
   "source": [
    "## Load Data"
   ]
  },
  {
   "cell_type": "code",
   "execution_count": 5,
   "metadata": {},
   "outputs": [
    {
     "name": "stdout",
     "output_type": "stream",
     "text": [
      "(5218, 3)\n"
     ]
    },
    {
     "data": {
      "text/html": [
       "<div>\n",
       "<style scoped>\n",
       "    .dataframe tbody tr th:only-of-type {\n",
       "        vertical-align: middle;\n",
       "    }\n",
       "\n",
       "    .dataframe tbody tr th {\n",
       "        vertical-align: top;\n",
       "    }\n",
       "\n",
       "    .dataframe thead th {\n",
       "        text-align: right;\n",
       "    }\n",
       "</style>\n",
       "<table border=\"1\" class=\"dataframe\">\n",
       "  <thead>\n",
       "    <tr style=\"text-align: right;\">\n",
       "      <th></th>\n",
       "      <th>id</th>\n",
       "      <th>review_title</th>\n",
       "      <th>review_content</th>\n",
       "    </tr>\n",
       "  </thead>\n",
       "  <tbody>\n",
       "    <tr>\n",
       "      <th>1787</th>\n",
       "      <td>4279243</td>\n",
       "      <td>Bad service</td>\n",
       "      <td>Really bad service we want to do a sim swop and they asked for the last 5 number. No one will remember who phoned Last or who we phoned. Now the don't want to do a Sim swop this is really pathetic. We got proof of residence and id  now my number and still no service the consultant sits on her phone and ignores us.</td>\n",
       "    </tr>\n",
       "    <tr>\n",
       "      <th>3272</th>\n",
       "      <td>4146372</td>\n",
       "      <td>Poor  service</td>\n",
       "      <td>I  cannot  receive  sms  or  notifications  from  institutions  and  banks  etc... I  went  to my  2  banks  they  said  everything is  fine  from  their  side Vodacom walk in centers  checked  and  they  advise  me  to  call the  relevant  department or  customer care i phone  them and  they  phone  me  back  I  explain  that  i  cannot  receive  sms's  only  from person to person that's  all . They  lady  said  they  going  to  escalate  it  but  up until now its  a  no  show i am  disappointed :(</td>\n",
       "    </tr>\n",
       "    <tr>\n",
       "      <th>3843</th>\n",
       "      <td>4088769</td>\n",
       "      <td>Vodacom</td>\n",
       "      <td>Worst experience ever, fiber off almost a week, and all they can say is we will  escalate, I don't have words 😔 \\nIf you ask for supervisor, they just tell you he'll come back to you, but no never one call back \\nGood luck if jou join them</td>\n",
       "    </tr>\n",
       "  </tbody>\n",
       "</table>\n",
       "</div>"
      ],
      "text/plain": [
       "           id   review_title  \\\n",
       "1787  4279243    Bad service   \n",
       "3272  4146372  Poor  service   \n",
       "3843  4088769        Vodacom   \n",
       "\n",
       "                                                                                                                                                                                                                                                                                                                                                                                                                                                                                                                review_content  \n",
       "1787                                                                                                                                                                                               Really bad service we want to do a sim swop and they asked for the last 5 number. No one will remember who phoned Last or who we phoned. Now the don't want to do a Sim swop this is really pathetic. We got proof of residence and id  now my number and still no service the consultant sits on her phone and ignores us.  \n",
       "3272  I  cannot  receive  sms  or  notifications  from  institutions  and  banks  etc... I  went  to my  2  banks  they  said  everything is  fine  from  their  side Vodacom walk in centers  checked  and  they  advise  me  to  call the  relevant  department or  customer care i phone  them and  they  phone  me  back  I  explain  that  i  cannot  receive  sms's  only  from person to person that's  all . They  lady  said  they  going  to  escalate  it  but  up until now its  a  no  show i am  disappointed :(  \n",
       "3843                                                                                                                                                                                                                                                                           Worst experience ever, fiber off almost a week, and all they can say is we will  escalate, I don't have words 😔 \\nIf you ask for supervisor, they just tell you he'll come back to you, but no never one call back \\nGood luck if jou join them  "
      ]
     },
     "metadata": {},
     "output_type": "display_data"
    }
   ],
   "source": [
    "df_input = pd.read_parquet(input_file)\n",
    "\n",
    "print(df_input.shape)\n",
    "with pd.option_context('display.max_colwidth', None):\n",
    "    display(df_input.sample(3))"
   ]
  },
  {
   "cell_type": "markdown",
   "metadata": {},
   "source": [
    "## Create LLM "
   ]
  },
  {
   "cell_type": "code",
   "execution_count": 6,
   "metadata": {},
   "outputs": [],
   "source": [
    "# create the client\n",
    "llm = Ollama(\n",
    "    model=\"mistral\",\n",
    "    top_p=0.001,\n",
    "    temperature=0.001,\n",
    "    num_predict=512)"
   ]
  },
  {
   "cell_type": "code",
   "execution_count": 7,
   "metadata": {},
   "outputs": [
    {
     "data": {
      "text/markdown": [
       "## Review"
      ],
      "text/plain": [
       "<IPython.core.display.Markdown object>"
      ]
     },
     "metadata": {},
     "output_type": "display_data"
    },
    {
     "data": {
      "text/markdown": [
       "**Poor signal. Worse service.**\n",
       "\n",
       "I was incorrectly billed R900 for Summer VC I did not purchase.\n",
       "\n",
       "Two seperate official complaints laid...the last one 10 days ago and no one response\n",
       "\n",
       "Not acceptable."
      ],
      "text/plain": [
       "<IPython.core.display.Markdown object>"
      ]
     },
     "metadata": {},
     "output_type": "display_data"
    },
    {
     "data": {
      "text/markdown": [
       "## Response"
      ],
      "text/plain": [
       "<IPython.core.display.Markdown object>"
      ]
     },
     "metadata": {},
     "output_type": "display_data"
    },
    {
     "data": {
      "text/markdown": [
       " I'm sorry to hear that you have experienced both a billing error and poor customer service in regards to your complaint about being incorrectly billed R900 for a Summer VC that you did not purchase. I understand how frustrating it can be to not receive a response after laying official complaints, especially when the issue is important to you.\n",
       "\n",
       "I would suggest reaching out to the company's customer support team once again, this time through a different channel such as social media or email if phone support has been unresponsive. Be sure to include all relevant details of your complaint and any previous correspondence with their team. You may also want to consider escalating the issue to a supervisor or manager if necessary.\n",
       "\n",
       "Additionally, you can file a complaint with the relevant consumer protection agency in your country for further investigation if the company continues to ignore your concerns. Remember to keep records of all communication with the company and any related documents, as this will be helpful during the investigation process.\n",
       "\n",
       "I hope that these suggestions help resolve the issue and improve your experience with the company's customer service. If you have any other questions or need further assistance, please don't hesitate to ask."
      ],
      "text/plain": [
       "<IPython.core.display.Markdown object>"
      ]
     },
     "metadata": {},
     "output_type": "display_data"
    }
   ],
   "source": [
    "# ensure that the client is working\n",
    "review = df_input.iloc[2588] \n",
    "review_content = \"**%s**\\n\\n%s\" % (\n",
    "    review['review_title'], \n",
    "    review['review_content'])\n",
    "\n",
    "display(Markdown(\"## Review\"))\n",
    "display(Markdown(review_content))\n",
    "\n",
    "display(Markdown(\"## Response\"))\n",
    "display(Markdown(llm.invoke(review_content)))"
   ]
  },
  {
   "cell_type": "markdown",
   "metadata": {},
   "source": [
    "## Functions"
   ]
  },
  {
   "cell_type": "markdown",
   "metadata": {},
   "source": [
    "### Classification"
   ]
  },
  {
   "cell_type": "code",
   "execution_count": 8,
   "metadata": {},
   "outputs": [
    {
     "data": {
      "text/html": [
       "<div>\n",
       "<style scoped>\n",
       "    .dataframe tbody tr th:only-of-type {\n",
       "        vertical-align: middle;\n",
       "    }\n",
       "\n",
       "    .dataframe tbody tr th {\n",
       "        vertical-align: top;\n",
       "    }\n",
       "\n",
       "    .dataframe thead th {\n",
       "        text-align: right;\n",
       "    }\n",
       "</style>\n",
       "<table border=\"1\" class=\"dataframe\">\n",
       "  <thead>\n",
       "    <tr style=\"text-align: right;\">\n",
       "      <th></th>\n",
       "      <th>category</th>\n",
       "      <th>reason</th>\n",
       "      <th>relevance</th>\n",
       "      <th>sentiment</th>\n",
       "      <th>id</th>\n",
       "    </tr>\n",
       "  </thead>\n",
       "  <tbody>\n",
       "    <tr>\n",
       "      <th>0</th>\n",
       "      <td>Network Coverage</td>\n",
       "      <td>The text mentions 'Poor signal' and 'worse ser...</td>\n",
       "      <td>0.6</td>\n",
       "      <td>negative</td>\n",
       "      <td>4208159</td>\n",
       "    </tr>\n",
       "    <tr>\n",
       "      <th>1</th>\n",
       "      <td>Billing</td>\n",
       "      <td>The text mentions 'incorrectly billed R900 for...</td>\n",
       "      <td>0.6</td>\n",
       "      <td>negative</td>\n",
       "      <td>4208159</td>\n",
       "    </tr>\n",
       "    <tr>\n",
       "      <th>2</th>\n",
       "      <td>Response</td>\n",
       "      <td>The text mentions 'no one response' to officia...</td>\n",
       "      <td>0.4</td>\n",
       "      <td>neutral</td>\n",
       "      <td>4208159</td>\n",
       "    </tr>\n",
       "  </tbody>\n",
       "</table>\n",
       "</div>"
      ],
      "text/plain": [
       "           category                                             reason  \\\n",
       "0  Network Coverage  The text mentions 'Poor signal' and 'worse ser...   \n",
       "1           Billing  The text mentions 'incorrectly billed R900 for...   \n",
       "2          Response  The text mentions 'no one response' to officia...   \n",
       "\n",
       "   relevance sentiment       id  \n",
       "0        0.6  negative  4208159  \n",
       "1        0.6  negative  4208159  \n",
       "2        0.4   neutral  4208159  "
      ]
     },
     "execution_count": 8,
     "metadata": {},
     "output_type": "execute_result"
    }
   ],
   "source": [
    "def classify_review(id:str, title:str, content:str, llm:BaseLLM):\n",
    "    result = pd.DataFrame()\n",
    "\n",
    "    # combine the title and content\n",
    "    review_content = f\"**{title}**\\n\\n{content}\"\n",
    "\n",
    "    # classify the review\n",
    "    response = classification.get_classification(\n",
    "        text=review_content,\n",
    "        llm=llm)\n",
    "    \n",
    "    # convert the response to a dataframe\n",
    "    if response is not None:\n",
    "        result = pd.DataFrame(response.dict()[\"categories\"])\n",
    "        result['id'] = id\n",
    "    \n",
    "    return result\n",
    "\n",
    "## test the function\n",
    "classify_review(\n",
    "    id=review['id'],\n",
    "    title=review['review_title'],\n",
    "    content=review['review_content'],\n",
    "    llm=llm\n",
    ")"
   ]
  },
  {
   "cell_type": "markdown",
   "metadata": {},
   "source": [
    "### Process Batch"
   ]
  },
  {
   "cell_type": "code",
   "execution_count": 9,
   "metadata": {},
   "outputs": [
    {
     "data": {
      "application/vnd.jupyter.widget-view+json": {
       "model_id": "74ca45c9d3564aefbac26dc3214a6534",
       "version_major": 2,
       "version_minor": 0
      },
      "text/plain": [
       "  0%|          | 0/5 [00:00<?, ?it/s]"
      ]
     },
     "metadata": {},
     "output_type": "display_data"
    },
    {
     "data": {
      "text/html": [
       "<div>\n",
       "<style scoped>\n",
       "    .dataframe tbody tr th:only-of-type {\n",
       "        vertical-align: middle;\n",
       "    }\n",
       "\n",
       "    .dataframe tbody tr th {\n",
       "        vertical-align: top;\n",
       "    }\n",
       "\n",
       "    .dataframe thead th {\n",
       "        text-align: right;\n",
       "    }\n",
       "</style>\n",
       "<table border=\"1\" class=\"dataframe\">\n",
       "  <thead>\n",
       "    <tr style=\"text-align: right;\">\n",
       "      <th></th>\n",
       "      <th>category</th>\n",
       "      <th>reason</th>\n",
       "      <th>relevance</th>\n",
       "      <th>sentiment</th>\n",
       "      <th>id</th>\n",
       "    </tr>\n",
       "  </thead>\n",
       "  <tbody>\n",
       "    <tr>\n",
       "      <th>0</th>\n",
       "      <td>Customer's Feeling</td>\n",
       "      <td>The customer expresses their dissatisfaction w...</td>\n",
       "      <td>1.0</td>\n",
       "      <td>negative</td>\n",
       "      <td>4492164</td>\n",
       "    </tr>\n",
       "    <tr>\n",
       "      <th>1</th>\n",
       "      <td>Response</td>\n",
       "      <td>The customer mentions their frustration with n...</td>\n",
       "      <td>1.0</td>\n",
       "      <td>negative</td>\n",
       "      <td>4492164</td>\n",
       "    </tr>\n",
       "    <tr>\n",
       "      <th>2</th>\n",
       "      <td>Devices</td>\n",
       "      <td>The text mentions a problem with the cellphone...</td>\n",
       "      <td>1.0</td>\n",
       "      <td>negative</td>\n",
       "      <td>4492020</td>\n",
       "    </tr>\n",
       "    <tr>\n",
       "      <th>3</th>\n",
       "      <td>Resolution</td>\n",
       "      <td>The text implies that the customer has reached...</td>\n",
       "      <td>1.0</td>\n",
       "      <td>negative</td>\n",
       "      <td>4492020</td>\n",
       "    </tr>\n",
       "    <tr>\n",
       "      <th>4</th>\n",
       "      <td>Network Coverage</td>\n",
       "      <td>The customer mentions having a home WiFi route...</td>\n",
       "      <td>1.0</td>\n",
       "      <td>negative</td>\n",
       "      <td>4491829</td>\n",
       "    </tr>\n",
       "    <tr>\n",
       "      <th>5</th>\n",
       "      <td>Customer Feeling</td>\n",
       "      <td>The customer expresses their frustration and d...</td>\n",
       "      <td>1.0</td>\n",
       "      <td>negative</td>\n",
       "      <td>4491829</td>\n",
       "    </tr>\n",
       "    <tr>\n",
       "      <th>6</th>\n",
       "      <td>Billing</td>\n",
       "      <td>The text mentions a query related to the Vodac...</td>\n",
       "      <td>1.0</td>\n",
       "      <td>negative</td>\n",
       "      <td>4491788</td>\n",
       "    </tr>\n",
       "    <tr>\n",
       "      <th>7</th>\n",
       "      <td>Customer's Feeling</td>\n",
       "      <td>The text expresses frustration with Vodacom's ...</td>\n",
       "      <td>1.0</td>\n",
       "      <td>negative</td>\n",
       "      <td>4491788</td>\n",
       "    </tr>\n",
       "    <tr>\n",
       "      <th>8</th>\n",
       "      <td>Cancellation</td>\n",
       "      <td>The text mentions trying to cancel a business ...</td>\n",
       "      <td>1.0</td>\n",
       "      <td>negative</td>\n",
       "      <td>4491706</td>\n",
       "    </tr>\n",
       "    <tr>\n",
       "      <th>9</th>\n",
       "      <td>Billing</td>\n",
       "      <td>The text mentions not receiving an invoice or ...</td>\n",
       "      <td>1.0</td>\n",
       "      <td>neutral</td>\n",
       "      <td>4491706</td>\n",
       "    </tr>\n",
       "  </tbody>\n",
       "</table>\n",
       "</div>"
      ],
      "text/plain": [
       "             category                                             reason  \\\n",
       "0  Customer's Feeling  The customer expresses their dissatisfaction w...   \n",
       "1            Response  The customer mentions their frustration with n...   \n",
       "2             Devices  The text mentions a problem with the cellphone...   \n",
       "3          Resolution  The text implies that the customer has reached...   \n",
       "4    Network Coverage  The customer mentions having a home WiFi route...   \n",
       "5    Customer Feeling  The customer expresses their frustration and d...   \n",
       "6             Billing  The text mentions a query related to the Vodac...   \n",
       "7  Customer's Feeling  The text expresses frustration with Vodacom's ...   \n",
       "8        Cancellation  The text mentions trying to cancel a business ...   \n",
       "9             Billing  The text mentions not receiving an invoice or ...   \n",
       "\n",
       "   relevance sentiment       id  \n",
       "0        1.0  negative  4492164  \n",
       "1        1.0  negative  4492164  \n",
       "2        1.0  negative  4492020  \n",
       "3        1.0  negative  4492020  \n",
       "4        1.0  negative  4491829  \n",
       "5        1.0  negative  4491829  \n",
       "6        1.0  negative  4491788  \n",
       "7        1.0  negative  4491788  \n",
       "8        1.0  negative  4491706  \n",
       "9        1.0   neutral  4491706  "
      ]
     },
     "execution_count": 9,
     "metadata": {},
     "output_type": "execute_result"
    }
   ],
   "source": [
    "def process_batch(df, batch_num:int, start_index:int, llm:BaseLLM, batch_size:int=32):\n",
    "    global output_path\n",
    "    df_result = pd.DataFrame()\n",
    "\n",
    "    # select the rows in the batch\n",
    "    end_index = start_index + batch_size\n",
    "    batch = df.iloc[start_index:end_index]\n",
    "\n",
    "    # perform the classifications\n",
    "    for index, row in tqdm(batch.iterrows(), total=batch_size, leave=False):\n",
    "        df_result = pd.concat([\n",
    "            df_result,\n",
    "            classify_review(\n",
    "                id=row['id'],\n",
    "                title=row['review_title'],\n",
    "                content=row['review_content'],\n",
    "                llm=llm)\n",
    "        ])\n",
    "\n",
    "    # save the classifications    \n",
    "    df_result.to_parquet(\n",
    "        f'{output_path}/batch_{batch_num+1:05}.parquet.gz',\n",
    "        index=False,\n",
    "        compression='gzip')\n",
    "\n",
    "    return end_index\n",
    "\n",
    "## test the function\n",
    "start_index = process_batch(df_input, 0, 0, llm, 5)\n",
    "pd.read_parquet(f'{output_path}/batch_00001.parquet.gz')"
   ]
  },
  {
   "cell_type": "markdown",
   "metadata": {},
   "source": [
    "### Process Data"
   ]
  },
  {
   "cell_type": "code",
   "execution_count": 10,
   "metadata": {},
   "outputs": [
    {
     "data": {
      "application/vnd.jupyter.widget-view+json": {
       "model_id": "773ca01f34a4492187c273dbbce504d4",
       "version_major": 2,
       "version_minor": 0
      },
      "text/plain": [
       "  0%|          | 0/3 [00:00<?, ?it/s]"
      ]
     },
     "metadata": {},
     "output_type": "display_data"
    },
    {
     "data": {
      "application/vnd.jupyter.widget-view+json": {
       "model_id": "0be2c4a2b26748fa9561312524f9ec34",
       "version_major": 2,
       "version_minor": 0
      },
      "text/plain": [
       "  0%|          | 0/2 [00:00<?, ?it/s]"
      ]
     },
     "metadata": {},
     "output_type": "display_data"
    },
    {
     "data": {
      "application/vnd.jupyter.widget-view+json": {
       "model_id": "e54351363c8d467987ea2cadf187bd68",
       "version_major": 2,
       "version_minor": 0
      },
      "text/plain": [
       "  0%|          | 0/2 [00:00<?, ?it/s]"
      ]
     },
     "metadata": {},
     "output_type": "display_data"
    },
    {
     "data": {
      "application/vnd.jupyter.widget-view+json": {
       "model_id": "4636408d6f4c43cc9c673220de2d591d",
       "version_major": 2,
       "version_minor": 0
      },
      "text/plain": [
       "  0%|          | 0/2 [00:00<?, ?it/s]"
      ]
     },
     "metadata": {},
     "output_type": "display_data"
    },
    {
     "data": {
      "text/html": [
       "<div>\n",
       "<style scoped>\n",
       "    .dataframe tbody tr th:only-of-type {\n",
       "        vertical-align: middle;\n",
       "    }\n",
       "\n",
       "    .dataframe tbody tr th {\n",
       "        vertical-align: top;\n",
       "    }\n",
       "\n",
       "    .dataframe thead th {\n",
       "        text-align: right;\n",
       "    }\n",
       "</style>\n",
       "<table border=\"1\" class=\"dataframe\">\n",
       "  <thead>\n",
       "    <tr style=\"text-align: right;\">\n",
       "      <th></th>\n",
       "      <th>category</th>\n",
       "      <th>reason</th>\n",
       "      <th>relevance</th>\n",
       "      <th>sentiment</th>\n",
       "      <th>id</th>\n",
       "    </tr>\n",
       "  </thead>\n",
       "  <tbody>\n",
       "    <tr>\n",
       "      <th>0</th>\n",
       "      <td>Policy</td>\n",
       "      <td>The text mentions 'company rules' which is a p...</td>\n",
       "      <td>1.0</td>\n",
       "      <td>negative</td>\n",
       "      <td>4057328</td>\n",
       "    </tr>\n",
       "    <tr>\n",
       "      <th>1</th>\n",
       "      <td>Customer's Feeling</td>\n",
       "      <td>'They are not willing to assist me in any way'...</td>\n",
       "      <td>1.0</td>\n",
       "      <td>negative</td>\n",
       "      <td>4057328</td>\n",
       "    </tr>\n",
       "    <tr>\n",
       "      <th>2</th>\n",
       "      <td>Policy</td>\n",
       "      <td>The text mentions Vodacom's unfair business pr...</td>\n",
       "      <td>1.0</td>\n",
       "      <td>negative</td>\n",
       "      <td>4161638</td>\n",
       "    </tr>\n",
       "  </tbody>\n",
       "</table>\n",
       "</div>"
      ],
      "text/plain": [
       "             category                                             reason  \\\n",
       "0              Policy  The text mentions 'company rules' which is a p...   \n",
       "1  Customer's Feeling  'They are not willing to assist me in any way'...   \n",
       "2              Policy  The text mentions Vodacom's unfair business pr...   \n",
       "\n",
       "   relevance sentiment       id  \n",
       "0        1.0  negative  4057328  \n",
       "1        1.0  negative  4057328  \n",
       "2        1.0  negative  4161638  "
      ]
     },
     "metadata": {},
     "output_type": "display_data"
    },
    {
     "data": {
      "text/html": [
       "<div>\n",
       "<style scoped>\n",
       "    .dataframe tbody tr th:only-of-type {\n",
       "        vertical-align: middle;\n",
       "    }\n",
       "\n",
       "    .dataframe tbody tr th {\n",
       "        vertical-align: top;\n",
       "    }\n",
       "\n",
       "    .dataframe thead th {\n",
       "        text-align: right;\n",
       "    }\n",
       "</style>\n",
       "<table border=\"1\" class=\"dataframe\">\n",
       "  <thead>\n",
       "    <tr style=\"text-align: right;\">\n",
       "      <th></th>\n",
       "      <th>category</th>\n",
       "      <th>reason</th>\n",
       "      <th>relevance</th>\n",
       "      <th>sentiment</th>\n",
       "      <th>id</th>\n",
       "    </tr>\n",
       "  </thead>\n",
       "  <tbody>\n",
       "    <tr>\n",
       "      <th>0</th>\n",
       "      <td>Billing</td>\n",
       "      <td>The text mentions that the customer settled an...</td>\n",
       "      <td>1.0</td>\n",
       "      <td>negative</td>\n",
       "      <td>4352227</td>\n",
       "    </tr>\n",
       "    <tr>\n",
       "      <th>1</th>\n",
       "      <td>Account Management</td>\n",
       "      <td>The text mentions that the customer has contac...</td>\n",
       "      <td>1.0</td>\n",
       "      <td>negative</td>\n",
       "      <td>4352227</td>\n",
       "    </tr>\n",
       "    <tr>\n",
       "      <th>2</th>\n",
       "      <td>Billing</td>\n",
       "      <td>The text mentions 'they have been charging me ...</td>\n",
       "      <td>1.0</td>\n",
       "      <td>negative</td>\n",
       "      <td>4265747</td>\n",
       "    </tr>\n",
       "    <tr>\n",
       "      <th>3</th>\n",
       "      <td>Customer's Feeling</td>\n",
       "      <td>The text contains the phrase 'Vodacom service ...</td>\n",
       "      <td>1.0</td>\n",
       "      <td>negative</td>\n",
       "      <td>4265747</td>\n",
       "    </tr>\n",
       "  </tbody>\n",
       "</table>\n",
       "</div>"
      ],
      "text/plain": [
       "             category                                             reason  \\\n",
       "0             Billing  The text mentions that the customer settled an...   \n",
       "1  Account Management  The text mentions that the customer has contac...   \n",
       "2             Billing  The text mentions 'they have been charging me ...   \n",
       "3  Customer's Feeling  The text contains the phrase 'Vodacom service ...   \n",
       "\n",
       "   relevance sentiment       id  \n",
       "0        1.0  negative  4352227  \n",
       "1        1.0  negative  4352227  \n",
       "2        1.0  negative  4265747  \n",
       "3        1.0  negative  4265747  "
      ]
     },
     "metadata": {},
     "output_type": "display_data"
    },
    {
     "data": {
      "text/html": [
       "<div>\n",
       "<style scoped>\n",
       "    .dataframe tbody tr th:only-of-type {\n",
       "        vertical-align: middle;\n",
       "    }\n",
       "\n",
       "    .dataframe tbody tr th {\n",
       "        vertical-align: top;\n",
       "    }\n",
       "\n",
       "    .dataframe thead th {\n",
       "        text-align: right;\n",
       "    }\n",
       "</style>\n",
       "<table border=\"1\" class=\"dataframe\">\n",
       "  <thead>\n",
       "    <tr style=\"text-align: right;\">\n",
       "      <th></th>\n",
       "      <th>category</th>\n",
       "      <th>reason</th>\n",
       "      <th>relevance</th>\n",
       "      <th>sentiment</th>\n",
       "      <th>id</th>\n",
       "    </tr>\n",
       "  </thead>\n",
       "  <tbody>\n",
       "    <tr>\n",
       "      <th>0</th>\n",
       "      <td>Billing</td>\n",
       "      <td>The text expresses dissatisfaction with Vodaco...</td>\n",
       "      <td>1.0</td>\n",
       "      <td>negative</td>\n",
       "      <td>4011053</td>\n",
       "    </tr>\n",
       "    <tr>\n",
       "      <th>1</th>\n",
       "      <td>Customer's Feeling</td>\n",
       "      <td>The text includes a statement about how the cu...</td>\n",
       "      <td>1.0</td>\n",
       "      <td>negative</td>\n",
       "      <td>4011053</td>\n",
       "    </tr>\n",
       "    <tr>\n",
       "      <th>2</th>\n",
       "      <td>Devices</td>\n",
       "      <td>The text mentions a specific device, V Tech wa...</td>\n",
       "      <td>1.0</td>\n",
       "      <td>neutral</td>\n",
       "      <td>4305303</td>\n",
       "    </tr>\n",
       "    <tr>\n",
       "      <th>3</th>\n",
       "      <td>Account Management</td>\n",
       "      <td>The text discusses an issue with syncing the w...</td>\n",
       "      <td>1.0</td>\n",
       "      <td>negative</td>\n",
       "      <td>4305303</td>\n",
       "    </tr>\n",
       "  </tbody>\n",
       "</table>\n",
       "</div>"
      ],
      "text/plain": [
       "             category                                             reason  \\\n",
       "0             Billing  The text expresses dissatisfaction with Vodaco...   \n",
       "1  Customer's Feeling  The text includes a statement about how the cu...   \n",
       "2             Devices  The text mentions a specific device, V Tech wa...   \n",
       "3  Account Management  The text discusses an issue with syncing the w...   \n",
       "\n",
       "   relevance sentiment       id  \n",
       "0        1.0  negative  4011053  \n",
       "1        1.0  negative  4011053  \n",
       "2        1.0   neutral  4305303  \n",
       "3        1.0  negative  4305303  "
      ]
     },
     "metadata": {},
     "output_type": "display_data"
    }
   ],
   "source": [
    "def process_data(df, llm:BaseLLM, start_batch_num:int=0, batch_size:int=32):\n",
    "    start_index = start_batch_num * batch_size\n",
    "    batch_num = start_batch_num\n",
    "\n",
    "    pbar = tqdm(total=len(df)//batch_size)\n",
    "    while start_index < len(df):\n",
    "        try:\n",
    "            start_index = process_batch(\n",
    "                df=df, \n",
    "                batch_num=batch_num, \n",
    "                start_index=start_index, \n",
    "                llm=llm, \n",
    "                batch_size=batch_size)\n",
    "            batch_num += 1\n",
    "            pbar.update(1)\n",
    "        except Exception as e:\n",
    "            print(f'Error processing batch {batch_num}')\n",
    "            raise e\n",
    "        \n",
    "    pbar.close()\n",
    "\n",
    "## test the function\n",
    "df_test = df_input.sample(6)\n",
    "process_data(df=df_test, llm=llm, batch_size=2)\n",
    "\n",
    "display(pd.read_parquet(f'{output_path}/batch_00001.parquet.gz'))\n",
    "display(pd.read_parquet(f'{output_path}/batch_00002.parquet.gz'))\n",
    "display(pd.read_parquet(f'{output_path}/batch_00003.parquet.gz'))"
   ]
  },
  {
   "cell_type": "markdown",
   "metadata": {},
   "source": [
    "## Classify Dataset\n",
    "\n",
    "Classify the input dataset in batches."
   ]
  },
  {
   "cell_type": "code",
   "execution_count": 11,
   "metadata": {},
   "outputs": [
    {
     "data": {
      "application/vnd.jupyter.widget-view+json": {
       "model_id": "df6abd22823d490eb3736c450ee0b22f",
       "version_major": 2,
       "version_minor": 0
      },
      "text/plain": [
       "  0%|          | 0/52 [00:00<?, ?it/s]"
      ]
     },
     "metadata": {},
     "output_type": "display_data"
    },
    {
     "data": {
      "application/vnd.jupyter.widget-view+json": {
       "model_id": "2d56eb2115514b5fa7db6399520c192a",
       "version_major": 2,
       "version_minor": 0
      },
      "text/plain": [
       "  0%|          | 0/100 [00:00<?, ?it/s]"
      ]
     },
     "metadata": {},
     "output_type": "display_data"
    },
    {
     "name": "stdout",
     "output_type": "stream",
     "text": [
      "Value Error: Failed to parse SentimentCategories from completion {'properties': {'categories': [{'category': 'Price Plans', 'reason': \"The text mentions a 'price increase' of 20% that was not communicated to the customer.\", 'relevance': 1.0, 'sentiment': 'negative'}, {'category': \"Customer's Feeling\", 'reason': \"The text expresses the customer's negative emotions towards the situation, such as feeling unfairly treated and powerless to prevent future price increases.\", 'relevance': 1.0, 'sentiment': 'negative'}]}, 'required': ['categories']}. Got: 1 validation error for SentimentCategories\n",
      "categories\n",
      "  field required (type=value_error.missing)\n",
      "Value Error: Failed to parse SentimentCategories from completion {'properties': {'categories': [{'category': 'Abuse', 'reason': \"The text mentions unwanted calls from a Vodacom number, which falls under the 'Abuse' category definition.\", 'relevance': 1.0, 'sentiment': 'negative'}, {'category': 'Policy', 'reason': \"The text mentions a 'Vodacom promotion' that is likely a phishing scam, which falls under the 'Policy' category definition.\", 'relevance': 1.0, 'sentiment': 'neutral'}]}, 'required': ['categories']}. Got: 1 validation error for SentimentCategories\n",
      "categories\n",
      "  field required (type=value_error.missing)\n"
     ]
    },
    {
     "data": {
      "application/vnd.jupyter.widget-view+json": {
       "model_id": "6f6243916fa5447da24e4c511bfe997a",
       "version_major": 2,
       "version_minor": 0
      },
      "text/plain": [
       "  0%|          | 0/100 [00:00<?, ?it/s]"
      ]
     },
     "metadata": {},
     "output_type": "display_data"
    },
    {
     "name": "stdout",
     "output_type": "stream",
     "text": [
      "Value Error: Failed to parse SentimentCategories from completion {'properties': {'categories': [{'category': 'Staff Level', 'reason': 'The text expresses gratitude and positive sentiment towards a specific Vodacom staff member, Jabu Manqele.', 'relevance': 1.0, 'sentiment': 'positive'}, {'category': \"Customer's Feeling\", 'reason': 'The text expresses positive feelings towards a Vodacom staff member and the interaction with them.', 'relevance': 1.0, 'sentiment': 'positive'}]}, 'required': ['categories']}. Got: 1 validation error for SentimentCategories\n",
      "categories\n",
      "  field required (type=value_error.missing)\n"
     ]
    }
   ],
   "source": [
    "process_data(df=df_input, llm=llm, batch_size=100)"
   ]
  }
 ],
 "metadata": {
  "kernelspec": {
   "display_name": "multi-intent",
   "language": "python",
   "name": "python3"
  },
  "language_info": {
   "codemirror_mode": {
    "name": "ipython",
    "version": 3
   },
   "file_extension": ".py",
   "mimetype": "text/x-python",
   "name": "python",
   "nbconvert_exporter": "python",
   "pygments_lexer": "ipython3",
   "version": "3.10.13"
  }
 },
 "nbformat": 4,
 "nbformat_minor": 2
}
