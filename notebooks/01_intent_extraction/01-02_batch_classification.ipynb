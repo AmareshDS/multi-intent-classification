{
 "cells": [
  {
   "cell_type": "markdown",
   "metadata": {},
   "source": [
    "# 01-02 : Batch Classification\n",
    "\n",
    "In this notebook we uses a LLM (as shown in `01-01_classification_test.ipynb`) to perform batch classifications on the customer review dataset selected in `00-01_data_preparation.ipynb`."
   ]
  },
  {
   "cell_type": "code",
   "execution_count": 1,
   "metadata": {},
   "outputs": [],
   "source": [
    "%load_ext autoreload\n",
    "%autoreload 2"
   ]
  },
  {
   "cell_type": "code",
   "execution_count": 2,
   "metadata": {},
   "outputs": [],
   "source": [
    "import os\n",
    "import sys\n",
    "\n",
    "sys.path.append(os.path.abspath(\"../../src\"))"
   ]
  },
  {
   "cell_type": "code",
   "execution_count": 3,
   "metadata": {},
   "outputs": [],
   "source": [
    "import pandas as pd\n",
    "from pprint import pprint\n",
    "from IPython.display import display, Markdown\n",
    "from tqdm.notebook import tqdm\n",
    "\n",
    "from langchain_core.language_models.llms import BaseLLM\n",
    "from langchain_community.llms import Ollama\n",
    "import service.classification as classification"
   ]
  },
  {
   "cell_type": "code",
   "execution_count": 4,
   "metadata": {},
   "outputs": [],
   "source": [
    "data_path = '../../data'\n",
    "input_path = f'{data_path}/hellopeter'\n",
    "output_path = f'{data_path}/intent_extraction'\n",
    "\n",
    "input_file = f'{input_path}/00-01_vodacom_selected_reviews.parquet.gz'"
   ]
  },
  {
   "cell_type": "markdown",
   "metadata": {},
   "source": [
    "## Load Data"
   ]
  },
  {
   "cell_type": "code",
   "execution_count": 5,
   "metadata": {},
   "outputs": [
    {
     "name": "stdout",
     "output_type": "stream",
     "text": [
      "(5218, 3)\n"
     ]
    },
    {
     "data": {
      "text/html": [
       "<div>\n",
       "<style scoped>\n",
       "    .dataframe tbody tr th:only-of-type {\n",
       "        vertical-align: middle;\n",
       "    }\n",
       "\n",
       "    .dataframe tbody tr th {\n",
       "        vertical-align: top;\n",
       "    }\n",
       "\n",
       "    .dataframe thead th {\n",
       "        text-align: right;\n",
       "    }\n",
       "</style>\n",
       "<table border=\"1\" class=\"dataframe\">\n",
       "  <thead>\n",
       "    <tr style=\"text-align: right;\">\n",
       "      <th></th>\n",
       "      <th>id</th>\n",
       "      <th>review_title</th>\n",
       "      <th>review_content</th>\n",
       "    </tr>\n",
       "  </thead>\n",
       "  <tbody>\n",
       "    <tr>\n",
       "      <th>5193</th>\n",
       "      <td>3952616</td>\n",
       "      <td>Bad Service - Reconnection</td>\n",
       "      <td>It is such a disgrace to lern that we cannot get service we need and such service make us to be challenged to continue with service. How many times do I need to call and get service? I had paid but reconnection now is an issue how many times do I have to call back to get connection?</td>\n",
       "    </tr>\n",
       "    <tr>\n",
       "      <th>4461</th>\n",
       "      <td>4025843</td>\n",
       "      <td>Scam on my account by vodasure</td>\n",
       "      <td>They debit on my account when ask them about I've been send polo to polo and they can't help me this is the police report that is debuting on my account Pol**********657931 I don't know this policy and even them they don't know and not willing to help me sort this matter so guys watch out the are scammers out there Vodasure</td>\n",
       "    </tr>\n",
       "    <tr>\n",
       "      <th>3538</th>\n",
       "      <td>4118114</td>\n",
       "      <td>Bad customer service</td>\n",
       "      <td>In 2020 i was due for an upgrade, they called and i said i dont want to upgrade, i want rather month to month to see what i would like, the *****s put me on another 24 months contract and have been struggling to remove it since.</td>\n",
       "    </tr>\n",
       "  </tbody>\n",
       "</table>\n",
       "</div>"
      ],
      "text/plain": [
       "           id                    review_title  \\\n",
       "5193  3952616      Bad Service - Reconnection   \n",
       "4461  4025843  Scam on my account by vodasure   \n",
       "3538  4118114            Bad customer service   \n",
       "\n",
       "                                                                                                                                                                                                                                                                                                                             review_content  \n",
       "5193                                            It is such a disgrace to lern that we cannot get service we need and such service make us to be challenged to continue with service. How many times do I need to call and get service? I had paid but reconnection now is an issue how many times do I have to call back to get connection?  \n",
       "4461  They debit on my account when ask them about I've been send polo to polo and they can't help me this is the police report that is debuting on my account Pol**********657931 I don't know this policy and even them they don't know and not willing to help me sort this matter so guys watch out the are scammers out there Vodasure  \n",
       "3538                                                                                                   In 2020 i was due for an upgrade, they called and i said i dont want to upgrade, i want rather month to month to see what i would like, the *****s put me on another 24 months contract and have been struggling to remove it since.  "
      ]
     },
     "metadata": {},
     "output_type": "display_data"
    }
   ],
   "source": [
    "df_input = pd.read_parquet(input_file)\n",
    "\n",
    "print(df_input.shape)\n",
    "with pd.option_context('display.max_colwidth', None):\n",
    "    display(df_input.sample(3))"
   ]
  },
  {
   "cell_type": "markdown",
   "metadata": {},
   "source": [
    "## Create LLM "
   ]
  },
  {
   "cell_type": "code",
   "execution_count": 6,
   "metadata": {},
   "outputs": [],
   "source": [
    "# create the client\n",
    "llm = Ollama(\n",
    "    model=\"mistral\",\n",
    "    top_p=0.001,\n",
    "    temperature=0.001,\n",
    "    num_predict=512)"
   ]
  },
  {
   "cell_type": "code",
   "execution_count": 7,
   "metadata": {},
   "outputs": [
    {
     "data": {
      "text/markdown": [
       "## Review"
      ],
      "text/plain": [
       "<IPython.core.display.Markdown object>"
      ]
     },
     "metadata": {},
     "output_type": "display_data"
    },
    {
     "data": {
      "text/markdown": [
       "**Poor signal. Worse service.**\n",
       "\n",
       "I was incorrectly billed R900 for Summer VC I did not purchase.\n",
       "\n",
       "Two seperate official complaints laid...the last one 10 days ago and no one response\n",
       "\n",
       "Not acceptable."
      ],
      "text/plain": [
       "<IPython.core.display.Markdown object>"
      ]
     },
     "metadata": {},
     "output_type": "display_data"
    },
    {
     "data": {
      "text/markdown": [
       "## Response"
      ],
      "text/plain": [
       "<IPython.core.display.Markdown object>"
      ]
     },
     "metadata": {},
     "output_type": "display_data"
    },
    {
     "data": {
      "text/markdown": [
       " I'm sorry to hear that you have experienced both a billing error and poor customer service in regards to your complaint about being incorrectly billed R900 for a Summer VC that you did not purchase. I understand how frustrating it can be to not receive a response after laying official complaints, especially when the issue is important to you.\n",
       "\n",
       "I would suggest reaching out to the company's customer support team once again, this time through a different channel such as social media or email if phone support has been unresponsive. Be sure to include all relevant details of your complaint and any previous correspondence with their team. You may also want to consider escalating the issue to a supervisor or manager if necessary.\n",
       "\n",
       "Additionally, you can file a complaint with the relevant consumer protection agency in your country for further investigation if the company continues to ignore your concerns. Remember to keep records of all communication with the company and any related documents, as this will be helpful during the investigation process.\n",
       "\n",
       "I hope that these suggestions help resolve the issue and improve your experience with the company's customer service. If you have any other questions or need further assistance, please don't hesitate to ask."
      ],
      "text/plain": [
       "<IPython.core.display.Markdown object>"
      ]
     },
     "metadata": {},
     "output_type": "display_data"
    }
   ],
   "source": [
    "# ensure that the client is working\n",
    "review = df_input.iloc[2588] \n",
    "review_content = \"**%s**\\n\\n%s\" % (\n",
    "    review['review_title'], \n",
    "    review['review_content'])\n",
    "\n",
    "display(Markdown(\"## Review\"))\n",
    "display(Markdown(review_content))\n",
    "\n",
    "display(Markdown(\"## Response\"))\n",
    "display(Markdown(llm.invoke(review_content)))"
   ]
  },
  {
   "cell_type": "markdown",
   "metadata": {},
   "source": [
    "## Functions"
   ]
  },
  {
   "cell_type": "markdown",
   "metadata": {},
   "source": [
    "### Classification"
   ]
  },
  {
   "cell_type": "code",
   "execution_count": 8,
   "metadata": {},
   "outputs": [
    {
     "data": {
      "text/html": [
       "<div>\n",
       "<style scoped>\n",
       "    .dataframe tbody tr th:only-of-type {\n",
       "        vertical-align: middle;\n",
       "    }\n",
       "\n",
       "    .dataframe tbody tr th {\n",
       "        vertical-align: top;\n",
       "    }\n",
       "\n",
       "    .dataframe thead th {\n",
       "        text-align: right;\n",
       "    }\n",
       "</style>\n",
       "<table border=\"1\" class=\"dataframe\">\n",
       "  <thead>\n",
       "    <tr style=\"text-align: right;\">\n",
       "      <th></th>\n",
       "      <th>category</th>\n",
       "      <th>reason</th>\n",
       "      <th>relevance</th>\n",
       "      <th>sentiment</th>\n",
       "      <th>id</th>\n",
       "    </tr>\n",
       "  </thead>\n",
       "  <tbody>\n",
       "    <tr>\n",
       "      <th>0</th>\n",
       "      <td>Network Coverage</td>\n",
       "      <td>The text mentions 'Poor signal' and 'worse ser...</td>\n",
       "      <td>0.6</td>\n",
       "      <td>negative</td>\n",
       "      <td>4208159</td>\n",
       "    </tr>\n",
       "    <tr>\n",
       "      <th>1</th>\n",
       "      <td>Billing</td>\n",
       "      <td>The text mentions 'incorrectly billed R900 for...</td>\n",
       "      <td>0.6</td>\n",
       "      <td>negative</td>\n",
       "      <td>4208159</td>\n",
       "    </tr>\n",
       "    <tr>\n",
       "      <th>2</th>\n",
       "      <td>Response</td>\n",
       "      <td>The text mentions 'no one response' to officia...</td>\n",
       "      <td>0.4</td>\n",
       "      <td>neutral</td>\n",
       "      <td>4208159</td>\n",
       "    </tr>\n",
       "  </tbody>\n",
       "</table>\n",
       "</div>"
      ],
      "text/plain": [
       "           category                                             reason  \\\n",
       "0  Network Coverage  The text mentions 'Poor signal' and 'worse ser...   \n",
       "1           Billing  The text mentions 'incorrectly billed R900 for...   \n",
       "2          Response  The text mentions 'no one response' to officia...   \n",
       "\n",
       "   relevance sentiment       id  \n",
       "0        0.6  negative  4208159  \n",
       "1        0.6  negative  4208159  \n",
       "2        0.4   neutral  4208159  "
      ]
     },
     "execution_count": 8,
     "metadata": {},
     "output_type": "execute_result"
    }
   ],
   "source": [
    "def classify_review(id:str, title:str, content:str, llm:BaseLLM):\n",
    "    result = pd.DataFrame()\n",
    "\n",
    "    # combine the title and content\n",
    "    review_content = f\"**{title}**\\n\\n{content}\"\n",
    "\n",
    "    # classify the review\n",
    "    response = classification.get_classification(\n",
    "        text=review_content,\n",
    "        llm=llm)\n",
    "    \n",
    "    # convert the response to a dataframe\n",
    "    if response is not None:\n",
    "        result = pd.DataFrame(response.dict()[\"categories\"])\n",
    "        result['id'] = id\n",
    "    \n",
    "    return result\n",
    "\n",
    "## test the function\n",
    "classify_review(\n",
    "    id=review['id'],\n",
    "    title=review['review_title'],\n",
    "    content=review['review_content'],\n",
    "    llm=llm\n",
    ")"
   ]
  },
  {
   "cell_type": "markdown",
   "metadata": {},
   "source": [
    "### Process Batch"
   ]
  },
  {
   "cell_type": "code",
   "execution_count": 9,
   "metadata": {},
   "outputs": [
    {
     "data": {
      "application/vnd.jupyter.widget-view+json": {
       "model_id": "3a165c0a0ec84cdbaf3d3e23ea901a27",
       "version_major": 2,
       "version_minor": 0
      },
      "text/plain": [
       "  0%|          | 0/5 [00:00<?, ?it/s]"
      ]
     },
     "metadata": {},
     "output_type": "display_data"
    },
    {
     "data": {
      "text/html": [
       "<div>\n",
       "<style scoped>\n",
       "    .dataframe tbody tr th:only-of-type {\n",
       "        vertical-align: middle;\n",
       "    }\n",
       "\n",
       "    .dataframe tbody tr th {\n",
       "        vertical-align: top;\n",
       "    }\n",
       "\n",
       "    .dataframe thead th {\n",
       "        text-align: right;\n",
       "    }\n",
       "</style>\n",
       "<table border=\"1\" class=\"dataframe\">\n",
       "  <thead>\n",
       "    <tr style=\"text-align: right;\">\n",
       "      <th></th>\n",
       "      <th>category</th>\n",
       "      <th>reason</th>\n",
       "      <th>relevance</th>\n",
       "      <th>sentiment</th>\n",
       "      <th>id</th>\n",
       "    </tr>\n",
       "  </thead>\n",
       "  <tbody>\n",
       "    <tr>\n",
       "      <th>0</th>\n",
       "      <td>Customer's Feeling</td>\n",
       "      <td>The customer expresses their dissatisfaction w...</td>\n",
       "      <td>1.0</td>\n",
       "      <td>negative</td>\n",
       "      <td>4492164</td>\n",
       "    </tr>\n",
       "    <tr>\n",
       "      <th>1</th>\n",
       "      <td>Response</td>\n",
       "      <td>The customer mentions their frustration with n...</td>\n",
       "      <td>1.0</td>\n",
       "      <td>negative</td>\n",
       "      <td>4492164</td>\n",
       "    </tr>\n",
       "    <tr>\n",
       "      <th>2</th>\n",
       "      <td>Devices</td>\n",
       "      <td>The text mentions a problem with the cellphone...</td>\n",
       "      <td>1.0</td>\n",
       "      <td>negative</td>\n",
       "      <td>4492020</td>\n",
       "    </tr>\n",
       "    <tr>\n",
       "      <th>3</th>\n",
       "      <td>Resolution</td>\n",
       "      <td>The text implies that the customer has reached...</td>\n",
       "      <td>1.0</td>\n",
       "      <td>negative</td>\n",
       "      <td>4492020</td>\n",
       "    </tr>\n",
       "    <tr>\n",
       "      <th>4</th>\n",
       "      <td>Network Coverage</td>\n",
       "      <td>The customer mentions having a home WiFi route...</td>\n",
       "      <td>1.0</td>\n",
       "      <td>negative</td>\n",
       "      <td>4491829</td>\n",
       "    </tr>\n",
       "    <tr>\n",
       "      <th>5</th>\n",
       "      <td>Customer Feeling</td>\n",
       "      <td>The customer expresses their frustration and d...</td>\n",
       "      <td>1.0</td>\n",
       "      <td>negative</td>\n",
       "      <td>4491829</td>\n",
       "    </tr>\n",
       "    <tr>\n",
       "      <th>6</th>\n",
       "      <td>Billing</td>\n",
       "      <td>The text mentions a query related to the Vodac...</td>\n",
       "      <td>1.0</td>\n",
       "      <td>negative</td>\n",
       "      <td>4491788</td>\n",
       "    </tr>\n",
       "    <tr>\n",
       "      <th>7</th>\n",
       "      <td>Customer's Feeling</td>\n",
       "      <td>The text expresses frustration with Vodacom's ...</td>\n",
       "      <td>1.0</td>\n",
       "      <td>negative</td>\n",
       "      <td>4491788</td>\n",
       "    </tr>\n",
       "    <tr>\n",
       "      <th>8</th>\n",
       "      <td>Cancellation</td>\n",
       "      <td>The text mentions trying to cancel a business ...</td>\n",
       "      <td>1.0</td>\n",
       "      <td>negative</td>\n",
       "      <td>4491706</td>\n",
       "    </tr>\n",
       "    <tr>\n",
       "      <th>9</th>\n",
       "      <td>Billing</td>\n",
       "      <td>The text mentions not receiving an invoice or ...</td>\n",
       "      <td>1.0</td>\n",
       "      <td>neutral</td>\n",
       "      <td>4491706</td>\n",
       "    </tr>\n",
       "  </tbody>\n",
       "</table>\n",
       "</div>"
      ],
      "text/plain": [
       "             category                                             reason  \\\n",
       "0  Customer's Feeling  The customer expresses their dissatisfaction w...   \n",
       "1            Response  The customer mentions their frustration with n...   \n",
       "2             Devices  The text mentions a problem with the cellphone...   \n",
       "3          Resolution  The text implies that the customer has reached...   \n",
       "4    Network Coverage  The customer mentions having a home WiFi route...   \n",
       "5    Customer Feeling  The customer expresses their frustration and d...   \n",
       "6             Billing  The text mentions a query related to the Vodac...   \n",
       "7  Customer's Feeling  The text expresses frustration with Vodacom's ...   \n",
       "8        Cancellation  The text mentions trying to cancel a business ...   \n",
       "9             Billing  The text mentions not receiving an invoice or ...   \n",
       "\n",
       "   relevance sentiment       id  \n",
       "0        1.0  negative  4492164  \n",
       "1        1.0  negative  4492164  \n",
       "2        1.0  negative  4492020  \n",
       "3        1.0  negative  4492020  \n",
       "4        1.0  negative  4491829  \n",
       "5        1.0  negative  4491829  \n",
       "6        1.0  negative  4491788  \n",
       "7        1.0  negative  4491788  \n",
       "8        1.0  negative  4491706  \n",
       "9        1.0   neutral  4491706  "
      ]
     },
     "execution_count": 9,
     "metadata": {},
     "output_type": "execute_result"
    }
   ],
   "source": [
    "def process_batch(df, batch_num, start_index, llm:BaseLLM, batch_size=32):\n",
    "    df_result = pd.DataFrame()\n",
    "\n",
    "    # select the rows in the batch\n",
    "    end_index = start_index + batch_size\n",
    "    batch = df.iloc[start_index:end_index]\n",
    "\n",
    "    # perform the classifications\n",
    "    for index, row in tqdm(batch.iterrows(), total=batch_size):\n",
    "        df_result = pd.concat([\n",
    "            df_result,\n",
    "            classify_review(\n",
    "                id=row['id'],\n",
    "                title=row['review_title'],\n",
    "                content=row['review_content'],\n",
    "                llm=llm)\n",
    "        ])\n",
    "\n",
    "    # save the classifications    \n",
    "    df_result.to_parquet(\n",
    "        f'{data_path}/batch_{batch_num}.parquet.gz',\n",
    "        index=False,\n",
    "        compression='gzip')\n",
    "\n",
    "    return end_index\n",
    "\n",
    "## test the function\n",
    "start_index = process_batch(df_input, 1, 0, llm, 5)\n",
    "pd.read_parquet(f'{data_path}/batch_1.parquet.gz')"
   ]
  },
  {
   "cell_type": "code",
   "execution_count": null,
   "metadata": {},
   "outputs": [],
   "source": [
    "\n",
    "import os\n",
    "\n",
    "def classify(text):\n",
    "    # Your classification function here\n",
    "    pass\n",
    "\n",
    "def process_batch(df, batch_num, start_index):\n",
    "    batch_size = 32\n",
    "    end_index = start_index + batch_size\n",
    "    batch = df.iloc[start_index:end_index]\n",
    "    batch['classification'] = batch.apply(lambda row: classify(row['review_title'] + ' ' + row['review_content']), axis=1)\n",
    "    batch.to_parquet(f'{data_path}/batch_{batch_num}.parquet.gz', index=False, compression='gzip')\n",
    "    return end_index\n",
    "\n",
    "def process_data(df, start_batch_num=0):\n",
    "    start_index = start_batch_num * 32\n",
    "    batch_num = start_batch_num\n",
    "    while start_index < len(df):\n",
    "        try:\n",
    "            start_index = process_batch(df, batch_num, start_index)\n",
    "            batch_num += 1\n",
    "        except Exception as e:\n",
    "            print(f'Error processing batch {batch_num}')\n",
    "            raise e\n",
    "\n",
    "# Load your DataFrame\n",
    "df_reviews = pd.read_csv('your_data.csv')\n",
    "\n",
    "# Process the data starting from batch number X\n",
    "process_data(df_reviews, start_batch_num=X)"
   ]
  }
 ],
 "metadata": {
  "kernelspec": {
   "display_name": "multi-intent",
   "language": "python",
   "name": "python3"
  },
  "language_info": {
   "codemirror_mode": {
    "name": "ipython",
    "version": 3
   },
   "file_extension": ".py",
   "mimetype": "text/x-python",
   "name": "python",
   "nbconvert_exporter": "python",
   "pygments_lexer": "ipython3",
   "version": "3.10.13"
  }
 },
 "nbformat": 4,
 "nbformat_minor": 2
}
