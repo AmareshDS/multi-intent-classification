{
 "cells": [
  {
   "cell_type": "markdown",
   "metadata": {},
   "source": [
    "# 01-02 : Batch Classification\n",
    "\n",
    "In this notebook we uses a LLM (as shown in `01-01_classification_test.ipynb`) to perform batch classifications on the customer review dataset selected in `00-01_data_preparation.ipynb`."
   ]
  },
  {
   "cell_type": "code",
   "execution_count": 1,
   "metadata": {},
   "outputs": [],
   "source": [
    "%load_ext autoreload\n",
    "%autoreload 2"
   ]
  },
  {
   "cell_type": "code",
   "execution_count": 2,
   "metadata": {},
   "outputs": [],
   "source": [
    "import os\n",
    "import sys\n",
    "\n",
    "sys.path.append(os.path.abspath(\"../../src\"))"
   ]
  },
  {
   "cell_type": "code",
   "execution_count": 3,
   "metadata": {},
   "outputs": [],
   "source": [
    "import pandas as pd\n",
    "from pprint import pprint\n",
    "from IPython.display import display, Markdown\n",
    "from tqdm.notebook import tqdm\n",
    "\n",
    "from langchain_core.language_models.llms import BaseLLM\n",
    "from langchain_community.llms import Ollama\n",
    "import service.classification as classification"
   ]
  },
  {
   "cell_type": "code",
   "execution_count": 4,
   "metadata": {},
   "outputs": [],
   "source": [
    "data_path = '../../data'\n",
    "input_path = f'{data_path}/hellopeter'\n",
    "output_path = f'{data_path}/intent_extraction'\n",
    "\n",
    "input_file = f'{input_path}/00-01_vodacom_selected_reviews.parquet.gz'"
   ]
  },
  {
   "cell_type": "markdown",
   "metadata": {},
   "source": [
    "## Load Data"
   ]
  },
  {
   "cell_type": "code",
   "execution_count": 5,
   "metadata": {},
   "outputs": [
    {
     "name": "stdout",
     "output_type": "stream",
     "text": [
      "(5218, 3)\n"
     ]
    },
    {
     "data": {
      "text/html": [
       "<div>\n",
       "<style scoped>\n",
       "    .dataframe tbody tr th:only-of-type {\n",
       "        vertical-align: middle;\n",
       "    }\n",
       "\n",
       "    .dataframe tbody tr th {\n",
       "        vertical-align: top;\n",
       "    }\n",
       "\n",
       "    .dataframe thead th {\n",
       "        text-align: right;\n",
       "    }\n",
       "</style>\n",
       "<table border=\"1\" class=\"dataframe\">\n",
       "  <thead>\n",
       "    <tr style=\"text-align: right;\">\n",
       "      <th></th>\n",
       "      <th>id</th>\n",
       "      <th>review_title</th>\n",
       "      <th>review_content</th>\n",
       "    </tr>\n",
       "  </thead>\n",
       "  <tbody>\n",
       "    <tr>\n",
       "      <th>3864</th>\n",
       "      <td>4087147</td>\n",
       "      <td>No customer service at all...... The worst</td>\n",
       "      <td>I am so frustrated when u miss a payment they don't hesitate to suspended you number and now i made a payment 10 days back and my number is still suspended, i notified them more them 5 times and they keep on saying it will be open in less the 24 hours however its been over so many 24 hours with no explanation! I am so not interested in continuing with this service provider because clearly customer service is not their priority</td>\n",
       "    </tr>\n",
       "    <tr>\n",
       "      <th>3840</th>\n",
       "      <td>4088998</td>\n",
       "      <td>Vodacom</td>\n",
       "      <td>Last week I sent a complaint, no one came back to me or gave me update. Vodacom client service is very poor and am very disappointed. they treated me like ****. moving my business elsewhere</td>\n",
       "    </tr>\n",
       "    <tr>\n",
       "      <th>363</th>\n",
       "      <td>4449479</td>\n",
       "      <td>I would like to say thank you to Lindy Kubheka at the upgrade department, and Nokulunga Gumege at Cancelation department</td>\n",
       "      <td>I would like to say thank you to Lindy Kubheka at the upgrade department, and Nokulunga Gumege at Cancelation department. These ladies was very helpful and professional. Wish there was more of you. Well done to the two of you.</td>\n",
       "    </tr>\n",
       "  </tbody>\n",
       "</table>\n",
       "</div>"
      ],
      "text/plain": [
       "           id  \\\n",
       "3864  4087147   \n",
       "3840  4088998   \n",
       "363   4449479   \n",
       "\n",
       "                                                                                                                  review_title  \\\n",
       "3864                                                                                No customer service at all...... The worst   \n",
       "3840                                                                                                                   Vodacom   \n",
       "363   I would like to say thank you to Lindy Kubheka at the upgrade department, and Nokulunga Gumege at Cancelation department   \n",
       "\n",
       "                                                                                                                                                                                                                                                                                                                                                                                                                                      review_content  \n",
       "3864  I am so frustrated when u miss a payment they don't hesitate to suspended you number and now i made a payment 10 days back and my number is still suspended, i notified them more them 5 times and they keep on saying it will be open in less the 24 hours however its been over so many 24 hours with no explanation! I am so not interested in continuing with this service provider because clearly customer service is not their priority  \n",
       "3840                                                                                                                                                                                                                                                   Last week I sent a complaint, no one came back to me or gave me update. Vodacom client service is very poor and am very disappointed. they treated me like ****. moving my business elsewhere  \n",
       "363                                                                                                                                                                                                               I would like to say thank you to Lindy Kubheka at the upgrade department, and Nokulunga Gumege at Cancelation department. These ladies was very helpful and professional. Wish there was more of you. Well done to the two of you.  "
      ]
     },
     "metadata": {},
     "output_type": "display_data"
    }
   ],
   "source": [
    "df_input = pd.read_parquet(input_file)\n",
    "\n",
    "print(df_input.shape)\n",
    "with pd.option_context('display.max_colwidth', None):\n",
    "    display(df_input.sample(3))"
   ]
  },
  {
   "cell_type": "markdown",
   "metadata": {},
   "source": [
    "## Create LLM "
   ]
  },
  {
   "cell_type": "code",
   "execution_count": 6,
   "metadata": {},
   "outputs": [],
   "source": [
    "# create the client\n",
    "llm = Ollama(\n",
    "    model=\"mistral\",\n",
    "    top_p=0.001,\n",
    "    temperature=0.001,\n",
    "    num_predict=512)"
   ]
  },
  {
   "cell_type": "code",
   "execution_count": 7,
   "metadata": {},
   "outputs": [
    {
     "data": {
      "text/markdown": [
       "## Review"
      ],
      "text/plain": [
       "<IPython.core.display.Markdown object>"
      ]
     },
     "metadata": {},
     "output_type": "display_data"
    },
    {
     "data": {
      "text/markdown": [
       "**Poor signal. Worse service.**\n",
       "\n",
       "I was incorrectly billed R900 for Summer VC I did not purchase.\n",
       "\n",
       "Two seperate official complaints laid...the last one 10 days ago and no one response\n",
       "\n",
       "Not acceptable."
      ],
      "text/plain": [
       "<IPython.core.display.Markdown object>"
      ]
     },
     "metadata": {},
     "output_type": "display_data"
    },
    {
     "data": {
      "text/markdown": [
       "## Response"
      ],
      "text/plain": [
       "<IPython.core.display.Markdown object>"
      ]
     },
     "metadata": {},
     "output_type": "display_data"
    },
    {
     "data": {
      "text/markdown": [
       " I'm sorry to hear that you have experienced both a billing error and poor customer service in regards to your complaint about being incorrectly billed R900 for a Summer VC that you did not purchase. I understand how frustrating it can be to not receive a response after laying official complaints, especially when the issue is important to you.\n",
       "\n",
       "I would suggest reaching out to the company's customer service department once again, this time through a different channel such as social media or email if phone support has been unresponsive. Be sure to include all relevant details of your complaint and any previous correspondence with their team. You may also want to consider escalating the issue to a supervisor or manager if necessary.\n",
       "\n",
       "Additionally, you can file a complaint with the relevant consumer protection agency in your country for further investigation if the company continues to ignore your concerns. Remember to keep records of all communication with the company and any related documents, as this will be helpful during the investigation process.\n",
       "\n",
       "I hope that these suggestions help resolve the issue and improve your experience with the company's customer service. If you have any other questions or need further assistance, please don't hesitate to ask."
      ],
      "text/plain": [
       "<IPython.core.display.Markdown object>"
      ]
     },
     "metadata": {},
     "output_type": "display_data"
    }
   ],
   "source": [
    "# ensure that the client is working\n",
    "review = df_input.iloc[2588] \n",
    "review_content = \"**%s**\\n\\n%s\" % (\n",
    "    review['review_title'], \n",
    "    review['review_content'])\n",
    "\n",
    "display(Markdown(\"## Review\"))\n",
    "display(Markdown(review_content))\n",
    "\n",
    "display(Markdown(\"## Response\"))\n",
    "display(Markdown(llm.invoke(review_content)))"
   ]
  },
  {
   "cell_type": "markdown",
   "metadata": {},
   "source": [
    "## Functions"
   ]
  },
  {
   "cell_type": "markdown",
   "metadata": {},
   "source": [
    "### Classification"
   ]
  },
  {
   "cell_type": "code",
   "execution_count": 8,
   "metadata": {},
   "outputs": [],
   "source": [
    "# # test problematic review\n",
    "# problem_text = '**Vodacom ***** not taken seriously**\\n\\n@vodacom I CANT BELIEVE YOU GUYS DO NOT TAKE ***** SERIOUSLY... I have emailed **************** and called ********** & ********** phones are not being answered do not get any responses.FFS 🤬'\n",
    "# display(Markdown(problem_text))\n",
    "# display(Markdown(llm.invoke(problem_text)))\n",
    "\n",
    "# print(classification.get_classification(problem_text, llm))"
   ]
  },
  {
   "cell_type": "code",
   "execution_count": 9,
   "metadata": {},
   "outputs": [],
   "source": [
    "def classify_review(id:str, title:str, content:str, llm:BaseLLM):\n",
    "    result = pd.DataFrame()\n",
    "\n",
    "    # combine the title and content\n",
    "    review_content = f\"**{title}**\\n\\n{content}\"\n",
    "\n",
    "    # classify the review\n",
    "    response = classification.get_classification(\n",
    "        text=review_content,\n",
    "        llm=llm)\n",
    "    \n",
    "    # convert the response to a dataframe\n",
    "    if response is not None:\n",
    "        result = pd.DataFrame(response.dict()[\"categories\"])\n",
    "        result['id'] = id\n",
    "    \n",
    "    return result\n",
    "\n",
    "# ## test the function\n",
    "# classify_review(\n",
    "#     id=review['id'],\n",
    "#     title=review['review_title'],\n",
    "#     content=review['review_content'],\n",
    "#     llm=llm\n",
    "# )"
   ]
  },
  {
   "cell_type": "markdown",
   "metadata": {},
   "source": [
    "### Process Batch"
   ]
  },
  {
   "cell_type": "code",
   "execution_count": 10,
   "metadata": {},
   "outputs": [],
   "source": [
    "def process_batch(df, batch_num:int, start_index:int, llm:BaseLLM, batch_size:int=32):\n",
    "    global output_path\n",
    "    df_result = pd.DataFrame()\n",
    "\n",
    "    # select the rows in the batch\n",
    "    end_index = start_index + batch_size\n",
    "    batch = df.iloc[start_index:end_index]\n",
    "\n",
    "    # perform the classifications\n",
    "    for index, row in tqdm(batch.iterrows(), total=batch_size, leave=False):\n",
    "        df_result = pd.concat([\n",
    "            df_result,\n",
    "            classify_review(\n",
    "                id=row['id'],\n",
    "                title=row['review_title'],\n",
    "                content=row['review_content'],\n",
    "                llm=llm)\n",
    "        ])\n",
    "\n",
    "    # save the classifications    \n",
    "    df_result.to_parquet(\n",
    "        f'{output_path}/batch_{batch_num+1:05}.parquet.gz',\n",
    "        index=False,\n",
    "        compression='gzip')\n",
    "\n",
    "    return end_index\n",
    "\n",
    "# ## test the function\n",
    "# start_index = process_batch(df_input, 0, 0, llm, 5)\n",
    "# pd.read_parquet(f'{output_path}/batch_00001.parquet.gz')"
   ]
  },
  {
   "cell_type": "markdown",
   "metadata": {},
   "source": [
    "### Process Data"
   ]
  },
  {
   "cell_type": "code",
   "execution_count": 11,
   "metadata": {},
   "outputs": [],
   "source": [
    "def process_data(df, llm:BaseLLM, start_batch_num:int=0, batch_size:int=32):\n",
    "    start_index = start_batch_num * batch_size\n",
    "    batch_num = start_batch_num\n",
    "\n",
    "    pbar = tqdm(total=len(df)//batch_size)\n",
    "    while start_index < len(df):\n",
    "        try:\n",
    "            start_index = process_batch(\n",
    "                df=df, \n",
    "                batch_num=batch_num, \n",
    "                start_index=start_index, \n",
    "                llm=llm, \n",
    "                batch_size=batch_size)\n",
    "            batch_num += 1\n",
    "            pbar.update(1)\n",
    "        except Exception as e:\n",
    "            print(f'Error processing batch {batch_num}')\n",
    "            raise e\n",
    "        \n",
    "    pbar.close()\n",
    "\n",
    "# ## test the function\n",
    "# df_test = df_input.sample(6)\n",
    "# process_data(df=df_test, llm=llm, batch_size=2)\n",
    "\n",
    "# display(pd.read_parquet(f'{output_path}/batch_00001.parquet.gz'))\n",
    "# display(pd.read_parquet(f'{output_path}/batch_00002.parquet.gz'))\n",
    "# display(pd.read_parquet(f'{output_path}/batch_00003.parquet.gz'))"
   ]
  },
  {
   "cell_type": "markdown",
   "metadata": {},
   "source": [
    "## Classify Dataset\n",
    "\n",
    "Classify the input dataset in batches."
   ]
  },
  {
   "cell_type": "code",
   "execution_count": 12,
   "metadata": {},
   "outputs": [
    {
     "data": {
      "application/vnd.jupyter.widget-view+json": {
       "model_id": "87c729b4f7b747299620cbc98b3d7a19",
       "version_major": 2,
       "version_minor": 0
      },
      "text/plain": [
       "  0%|          | 0/52 [00:00<?, ?it/s]"
      ]
     },
     "metadata": {},
     "output_type": "display_data"
    },
    {
     "data": {
      "application/vnd.jupyter.widget-view+json": {
       "model_id": "726b3488ddf34333b96b01245df8097f",
       "version_major": 2,
       "version_minor": 0
      },
      "text/plain": [
       "  0%|          | 0/100 [00:00<?, ?it/s]"
      ]
     },
     "metadata": {},
     "output_type": "display_data"
    },
    {
     "name": "stdout",
     "output_type": "stream",
     "text": [
      "Value Error: Failed to parse SentimentCategories from completion {'properties': {'categories': [{'category': 'Cancellation', 'reason': 'The text mentions that the customer has cancelled their contract but Vodacom continues to debit their account for post-cancellation months.', 'relevance': 1.0, 'sentiment': 'negative'}, {'category': 'Billing', 'reason': \"The text mentions that Vodacom has debited the customer's account for post-cancellation months.\", 'relevance': 1.0, 'sentiment': 'negative'}]}, 'required': ['categories']}. Got: 1 validation error for SentimentCategories\n",
      "categories\n",
      "  field required (type=value_error.missing)\n",
      "Value Error: Failed to parse SentimentCategories from completion {'properties': {'categories': [{'category': 'Brand', 'reason': \"The customer mentions 'Vodacom' and expresses their intention to switch to another brand, MTN.\", 'relevance': 1.0, 'sentiment': 'negative'}, {'category': \"Customer's Feeling\", 'reason': \"The customer expresses their dissatisfaction with Vodacom's service and states that they will be moving to another provider due to their poor experience.\", 'relevance': 1.0, 'sentiment': 'negative'}, {'category': 'Cancellation', 'reason': 'The customer mentions their intention to cancel their service with Vodacom and move to another provider, MTN.', 'relevance': 1.0, 'sentiment': 'neutral'}]}, 'required': ['categories']}. Got: 1 validation error for SentimentCategories\n",
      "categories\n",
      "  field required (type=value_error.missing)\n",
      "Value Error: Failed to parse SentimentCategories from completion {'properties': {'categories': [{'category': 'Abuse', 'reason': 'The text contains abusive language towards Vodacom and expresses frustration or anger towards the company.', 'relevance': 1, 'sentiment': 'negative'}]}, 'required': ['categories']}. Got: 1 validation error for SentimentCategories\n",
      "categories\n",
      "  field required (type=value_error.missing)\n",
      "Value Error: Failed to parse SentimentCategories from completion {'properties': {'categories': [{'category': 'Policy', 'reason': 'Vodacom representative misrepresented the cost of new contract', 'relevance': 1.0, 'sentiment': 'negative'}, {'category': 'Billing', 'reason': 'Costs significantly increased without prior notice', 'relevance': 1.0, 'sentiment': 'negative'}]}, 'required': ['categories']}. Got: 1 validation error for SentimentCategories\n",
      "categories\n",
      "  field required (type=value_error.missing)\n"
     ]
    },
    {
     "data": {
      "application/vnd.jupyter.widget-view+json": {
       "model_id": "0661e5db71a445ebb275e05df76854b9",
       "version_major": 2,
       "version_minor": 0
      },
      "text/plain": [
       "  0%|          | 0/100 [00:00<?, ?it/s]"
      ]
     },
     "metadata": {},
     "output_type": "display_data"
    },
    {
     "name": "stdout",
     "output_type": "stream",
     "text": [
      "Value Error: Failed to parse SentimentCategories from completion {'properties': {'categories': [{'category': 'Brand (Vodacom)', 'reason': 'The customer expresses their dissatisfaction with Vodacom multiple times.', 'relevance': 1, 'sentiment': 'negative'}, {'category': 'Billing (refund request and money back)', 'reason': 'The customer requests a full refund of their money instead of a credit.', 'relevance': 1, 'sentiment': 'neutral'}, {'category': 'Network Coverage (internet issues)', 'reason': 'The main issue mentioned in the text is related to internet connectivity problems.', 'relevance': 1, 'sentiment': 'negative'}]}, 'required': ['categories']}. Got: 1 validation error for SentimentCategories\n",
      "categories\n",
      "  field required (type=value_error.missing)\n",
      "Value Error: Failed to parse SentimentCategories from completion {'properties': {'categories': [{'category': 'Cancellation', 'reason': 'The text mentions that the customer called Vodacom to cancel one of their contracts, but was advised that it had been loaded only to find out later that it was never cancelled.', 'relevance': 1.0, 'sentiment': 'negative'}, {'category': \"Customer's Feeling (Negative)\", 'reason': \"The text expresses the customer's negative feelings towards Vodacom for not cancelling their contract as promised.\", 'relevance': 1.0, 'sentiment': 'negative'}, {'category': 'Resolution (Unresolved issue)', 'reason': \"The text indicates that the customer's issue with Vodacom regarding the cancellation of their contract remains unresolved.\", 'relevance': 1.0, 'sentiment': 'neutral'}]}, 'required': ['categories']}. Got: 1 validation error for SentimentCategories\n",
      "categories\n",
      "  field required (type=value_error.missing)\n",
      "Value Error: Failed to parse SentimentCategories from completion {'properties': {'categories': [{'category': 'Network Coverage', 'reason': \"The text mentions that the client's Fibre has been down for an extended period of time and they have reported the issue multiple times but have not received a satisfactory resolution.\", 'relevance': 1.0, 'sentiment': 'negative'}, {'category': 'Cancellation', 'reason': 'The text suggests that the client may cancel their contract if the issue is not resolved by a certain date.', 'relevance': 0.8, 'sentiment': 'neutral'}, {'category': \"Customer's Feeling\", 'reason': \"The text expresses the client's frustration with the lack of progress in resolving the issue and the financial impact it is having on them.\", 'relevance': 0.8, 'sentiment': 'negative'}]}, 'required': ['categories']}. Got: 1 validation error for SentimentCategories\n",
      "categories\n",
      "  field required (type=value_error.missing)\n",
      "Value Error: Failed to parse SentimentCategories from completion {'properties': {'categories': [{'category': \"Customer's Feeling\", 'reason': \"The text expresses the customer's feeling towards the service they received.\", 'relevance': 0.8, 'sentiment': 'negative'}, {'category': 'Delivery Enquiry or Complaint', 'reason': \"The text mentions 'Not helpful when RAM did not deliver their package'. This is a complaint about the delivery service.\", 'relevance': 0.9, 'sentiment': 'negative'}]}, 'required': ['categories']}. Got: 1 validation error for SentimentCategories\n",
      "categories\n",
      "  field required (type=value_error.missing)\n"
     ]
    }
   ],
   "source": [
    "process_data(df=df_input, llm=llm, batch_size=100, start_batch_num=6)"
   ]
  }
 ],
 "metadata": {
  "kernelspec": {
   "display_name": "multi-intent",
   "language": "python",
   "name": "python3"
  },
  "language_info": {
   "codemirror_mode": {
    "name": "ipython",
    "version": 3
   },
   "file_extension": ".py",
   "mimetype": "text/x-python",
   "name": "python",
   "nbconvert_exporter": "python",
   "pygments_lexer": "ipython3",
   "version": "3.10.13"
  }
 },
 "nbformat": 4,
 "nbformat_minor": 2
}
